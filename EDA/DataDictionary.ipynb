{
 "cells": [
  {
   "cell_type": "markdown",
   "metadata": {},
   "source": [
    "<b> Yellow Taxi Trip Records </b>\n",
    "\n",
    "# Data Dictionary\n",
    "\n",
    "- VendorID: A code indicating the TPEP provider that provided the record. \n",
    "  + 1= Creative Mobile Technologies, LLC.\n",
    "  + 2= VeriFone Inc.\n",
    "- tpep_pickup_datetime: The date and time when the meter was engaged.\n",
    "- tpep_dropoff_datetime: The date and time when the meter was disengaged.\n",
    "- Passenger_count: The number of passengers in the vehicle(This is a driver-entered value).\n",
    "- Trip_distance: The elapsed trip distance in miles reported by the taximeter.\n",
    "- PULocationID: TLC Taxi Zone in which the taximeter was engaged\n",
    "- DOLocationID: TLC Taxi Zone in which the taximeter was disengaged\n",
    "- RateCodeID: The final rate code in effect at the end of the trip.\n",
    "   + 1= Standard rate\n",
    "   + 2=JFK\n",
    "   + 3=Newark\n",
    "   + 4=Nassau or Westchester\n",
    "   + 5=Negotiated fare\n",
    "   + 6=Group ride\n",
    "- Store_and_fwd_flag: This flag indicates whether the trip record was held in vehicle memory before sending to the vendor, aka “store and forward,” because the vehicle did not have a connection to the server.\n",
    "   + Y= store and forward trip\n",
    "   + N= not a store and forward trip\n",
    "- Payment_type: A numeric code signifying how the passenger paid for the trip.\n",
    "   + 1= Credit card\n",
    "   + 2= Cash\n",
    "   + 3= No charge\n",
    "   + 4= Dispute\n",
    "   + 5= Unknown\n",
    "   + 6= Voided trip\n",
    "- Fare_amount: The time-and-distance fare calculated by the meter.\n",
    "- Extra: Miscellaneous extras and surcharges. Currently, this only includes the $0.50 and $1 rush hour and overnight charges.\n",
    "- MTA_tax: $0.50 MTA tax that is automatically triggered based on the metered rate in use.\n",
    "- Improvement_surcharge: $0.30 improvement surcharge assessed trips at the flag drop. The\n",
    "- improvement surcharge: began being levied in 2015.\n",
    "- Tip_amount: Tip amount (This field is automatically populated for credit card tips. Cash tips are not included.)\n",
    "- Tolls_amount: Total amount of all tolls paid in trip.\n",
    "- Total_amount: The total amount charged to passengers. Does not include cash tips.\n",
    "- Congestion_Surcharge: Total amount collected in trip for NYS congestion surcharge.\n",
    "- Airport_fee: $1.25 for pick up only at LaGuardia and John F. Kennedy Airports"
   ]
  },
  {
   "cell_type": "markdown",
   "metadata": {},
   "source": [
    "<b> FHV Trip Records </b>\n",
    "\n",
    "# Data Dictionary\n",
    "\n",
    "- Dispatching_base_num: The TLC Base License Number of the base that dispatched the trip\n",
    "- Pickup_datetime: The date and time of the trip pick-up.\n",
    "- DropOff_datetime: The date and time of the trip dropoff.\n",
    "- PULocationID: TLC Taxi Zone in which the trip began.\n",
    "- DOLocationID: TLC Taxi Zone in which the trip ended.\n",
    "- SR_Flag: Indicates if the trip was a part of a shared ride chain offered by a High Volume FHV company (e.g. Uber Pool, Lyft Line). For shared\n",
    "trips, the value is 1. For non-shared rides, this field is null.\n",
    "\n",
    "   + NOTE: For most High Volume FHV companies, only shared rides that\n",
    "were requested AND matched to another shared-ride request over\n",
    "the course of the journey are flagged. However, Lyft (base license\n",
    "numbers B02510 + B02844) also flags rides for which a shared ride\n",
    "was requested but another passenger was not successfully matched\n",
    "to share the trip—therefore, trips records with SR_Flag=1 from those\n",
    "two bases could indicate EITHER a first trip in a shared trip chain OR\n",
    "a trip for which a shared ride was requested but never matched.\n",
    "Users should anticipate an overcount of successfully shared trips\n",
    "completed by Lyft."
   ]
  }
 ],
 "metadata": {
  "language_info": {
   "name": "python"
  }
 },
 "nbformat": 4,
 "nbformat_minor": 2
}
