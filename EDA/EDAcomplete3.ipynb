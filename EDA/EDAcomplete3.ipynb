{
 "cells": [
  {
   "cell_type": "markdown",
   "metadata": {},
   "source": [
    "# EDA\n",
    "\n",
    "The following documents is the first and general EDA (Examinating Data Analys) of the 17 datasets listed below:\n",
    "- Alternative Fuel Vehicles US.csv\n",
    "- Electric and Alternative Fuel Charging Stations.csv\n",
    "- ElectricCarData_Norm.csv\n",
    "- ElectricCarData_Clean.csv\n",
    "- Light Duty Vehicles.csv\n",
    "- yellow_tripdata_2022-06.parquet\n",
    "- yellow_tripdata_2023-06.parquet \n",
    "- fhv_tripdata_2022-06.parquet\n",
    "- fhv_tripdata_2023-06.parquet\n",
    "- green_tripdata_2022-06.parquet\n",
    "- green_tripdata_2023-06.parquet\n",
    "- fhvhv_tripdata_2022-06.parquet\n",
    "- fhvhv_tripdata_2023-06.parquet\n",
    "- data_reports_monthly.csv\n",
    "- taxi+_zone_lookup.csv\n",
    "- taxi_zones.dbf\n",
    "- Vehicle Fuel Economy Data.csv"
   ]
  },
  {
   "cell_type": "markdown",
   "metadata": {},
   "source": [
    "## Libraries"
   ]
  },
  {
   "cell_type": "code",
   "execution_count": 1,
   "metadata": {},
   "outputs": [],
   "source": [
    "import pandas as pd\n",
    "import matplotlib.pyplot as plt\n",
    "import seaborn as sns\n",
    "import pyarrow\n",
    "import math\n",
    "from sklearn.ensemble import IsolationForest\n",
    "from dbfread import DBF\n",
    "import warnings\n",
    "warnings.filterwarnings(\"ignore\")"
   ]
  },
  {
   "cell_type": "markdown",
   "metadata": {},
   "source": []
  },
  {
   "cell_type": "markdown",
   "metadata": {},
   "source": [
    "## YELLOW TAXIS\n",
    "### yellow_tripdata_2022-06\n",
    "Importing the dataset as a DataFrame"
   ]
  },
  {
   "cell_type": "markdown",
   "metadata": {},
   "source": [
    "Importing the dataset as a DataFrame"
   ]
  },
  {
   "cell_type": "code",
   "execution_count": 2,
   "metadata": {},
   "outputs": [],
   "source": [
    "df_yel22= pd.read_parquet('Datasets\\yellow_tripdata_2022-06.parquet')\n"
   ]
  },
  {
   "cell_type": "code",
   "execution_count": 3,
   "metadata": {},
   "outputs": [
    {
     "data": {
      "text/plain": [
       "pandas.core.frame.DataFrame"
      ]
     },
     "execution_count": 3,
     "metadata": {},
     "output_type": "execute_result"
    }
   ],
   "source": [
    "type(df_yel22)"
   ]
  },
  {
   "cell_type": "markdown",
   "metadata": {},
   "source": [
    "### Data Dictionary:\n",
    "\n",
    "- VendorID: A code indicating the TPEP provider that provided the record. \n",
    "  + 1= Creative Mobile Technologies, LLC.\n",
    "  + 2= VeriFone Inc.\n",
    "- tpep_pickup_datetime: The date and time when the meter was engaged.\n",
    "- tpep_dropoff_datetime: The date and time when the meter was disengaged.\n",
    "- Passenger_count: The number of passengers in the vehicle(This is a driver-entered value).\n",
    "- Trip_distance: The elapsed trip distance in miles reported by the taximeter.\n",
    "- PULocationID: TLC Taxi Zone in which the taximeter was engaged\n",
    "- DOLocationID: TLC Taxi Zone in which the taximeter was disengaged\n",
    "- RateCodeID: The final rate code in effect at the end of the trip.\n",
    "   + 1= Standard rate\n",
    "   + 2=JFK\n",
    "   + 3=Newark\n",
    "   + 4=Nassau or Westchester\n",
    "   + 5=Negotiated fare\n",
    "   + 6=Group ride\n",
    "- Store_and_fwd_flag: This flag indicates whether the trip record was held in vehicle memory before sending to the vendor, aka “store and forward,” because the vehicle did not have a connection to the server.\n",
    "   + Y= store and forward trip\n",
    "   + N= not a store and forward trip\n",
    "- Payment_type: A numeric code signifying how the passenger paid for the trip.\n",
    "   + 1= Credit card\n",
    "   + 2= Cash\n",
    "   + 3= No charge\n",
    "   + 4= Dispute\n",
    "   + 5= Unknown\n",
    "   + 6= Voided trip\n",
    "- Fare_amount: The time-and-distance fare calculated by the meter.\n",
    "- Extra: Miscellaneous extras and surcharges. Currently, this only includes the $0.50 and $1 rush hour and overnight charges.\n",
    "- MTA_tax: $0.50 MTA tax that is automatically triggered based on the metered rate in use.\n",
    "- Improvement_surcharge: $0.30 improvement surcharge assessed trips at the flag drop. The\n",
    "- improvement surcharge: began being levied in 2015.\n",
    "- Tip_amount: Tip amount (This field is automatically populated for credit card tips. Cash tips are not included.)\n",
    "- Tolls_amount: Total amount of all tolls paid in trip.\n",
    "- Total_amount: The total amount charged to passengers. Does not include cash tips.\n",
    "- Congestion_Surcharge: Total amount collected in trip for NYS congestion surcharge.\n",
    "- Airport_fee: $1.25 for pick up only at LaGuardia and John F. Kennedy Airports"
   ]
  },
  {
   "cell_type": "markdown",
   "metadata": {},
   "source": [
    "### Shape and Dimension"
   ]
  },
  {
   "cell_type": "code",
   "execution_count": 4,
   "metadata": {},
   "outputs": [
    {
     "data": {
      "text/plain": [
       "(3558124, 19)"
      ]
     },
     "execution_count": 4,
     "metadata": {},
     "output_type": "execute_result"
    }
   ],
   "source": [
    "df_yel22.shape"
   ]
  },
  {
   "cell_type": "markdown",
   "metadata": {},
   "source": [
    "Column Names and Data Types"
   ]
  },
  {
   "cell_type": "code",
   "execution_count": 5,
   "metadata": {},
   "outputs": [
    {
     "name": "stdout",
     "output_type": "stream",
     "text": [
      "<class 'pandas.core.frame.DataFrame'>\n",
      "RangeIndex: 3558124 entries, 0 to 3558123\n",
      "Data columns (total 19 columns):\n",
      " #   Column                 Dtype         \n",
      "---  ------                 -----         \n",
      " 0   VendorID               int64         \n",
      " 1   tpep_pickup_datetime   datetime64[us]\n",
      " 2   tpep_dropoff_datetime  datetime64[us]\n",
      " 3   passenger_count        float64       \n",
      " 4   trip_distance          float64       \n",
      " 5   RatecodeID             float64       \n",
      " 6   store_and_fwd_flag     object        \n",
      " 7   PULocationID           int64         \n",
      " 8   DOLocationID           int64         \n",
      " 9   payment_type           int64         \n",
      " 10  fare_amount            float64       \n",
      " 11  extra                  float64       \n",
      " 12  mta_tax                float64       \n",
      " 13  tip_amount             float64       \n",
      " 14  tolls_amount           float64       \n",
      " 15  improvement_surcharge  float64       \n",
      " 16  total_amount           float64       \n",
      " 17  congestion_surcharge   float64       \n",
      " 18  airport_fee            float64       \n",
      "dtypes: datetime64[us](2), float64(12), int64(4), object(1)\n",
      "memory usage: 515.8+ MB\n"
     ]
    }
   ],
   "source": [
    "df_yel22.info()"
   ]
  },
  {
   "cell_type": "markdown",
   "metadata": {},
   "source": [
    "Here we see that there are no string data in any column, we just have numberic, date and time values in this dataset."
   ]
  },
  {
   "cell_type": "markdown",
   "metadata": {},
   "source": [
    "### Data Information"
   ]
  },
  {
   "cell_type": "markdown",
   "metadata": {},
   "source": [
    "Duplicates"
   ]
  },
  {
   "cell_type": "code",
   "execution_count": 6,
   "metadata": {},
   "outputs": [
    {
     "data": {
      "text/plain": [
       "0"
      ]
     },
     "execution_count": 6,
     "metadata": {},
     "output_type": "execute_result"
    }
   ],
   "source": [
    "df_yel22.duplicated().sum()"
   ]
  },
  {
   "cell_type": "markdown",
   "metadata": {},
   "source": [
    "There are 0 duplicated rows in this dataset"
   ]
  },
  {
   "cell_type": "markdown",
   "metadata": {},
   "source": [
    "Missing and Null Values"
   ]
  },
  {
   "cell_type": "markdown",
   "metadata": {},
   "source": [
    "Below is shown that there are five columns with 132448 null values in each.\n",
    "\n",
    "Incomplete Columns:\n",
    "- passenger_count\n",
    "- RatecodeID\n",
    "- store_and_fwd_flag\n",
    "- congestion_surcharge\n",
    "- airport_fee"
   ]
  },
  {
   "cell_type": "code",
   "execution_count": 7,
   "metadata": {},
   "outputs": [
    {
     "data": {
      "text/plain": [
       "VendorID                      0\n",
       "tpep_pickup_datetime          0\n",
       "tpep_dropoff_datetime         0\n",
       "passenger_count          132448\n",
       "trip_distance                 0\n",
       "RatecodeID               132448\n",
       "store_and_fwd_flag       132448\n",
       "PULocationID                  0\n",
       "DOLocationID                  0\n",
       "payment_type                  0\n",
       "fare_amount                   0\n",
       "extra                         0\n",
       "mta_tax                       0\n",
       "tip_amount                    0\n",
       "tolls_amount                  0\n",
       "improvement_surcharge         0\n",
       "total_amount                  0\n",
       "congestion_surcharge     132448\n",
       "airport_fee              132448\n",
       "dtype: int64"
      ]
     },
     "execution_count": 7,
     "metadata": {},
     "output_type": "execute_result"
    }
   ],
   "source": [
    "df_yel22.isnull().sum()"
   ]
  },
  {
   "cell_type": "markdown",
   "metadata": {},
   "source": [
    "### yellow_tripdata_2022-06.parquet"
   ]
  },
  {
   "cell_type": "markdown",
   "metadata": {},
   "source": [
    "Importing the dataset as a DataFrame"
   ]
  },
  {
   "cell_type": "code",
   "execution_count": 8,
   "metadata": {},
   "outputs": [],
   "source": [
    "df_yel23= pd.read_parquet('Datasets\\yellow_tripdata_2023-06.parquet')\n"
   ]
  },
  {
   "cell_type": "code",
   "execution_count": 9,
   "metadata": {},
   "outputs": [
    {
     "data": {
      "text/plain": [
       "pandas.core.frame.DataFrame"
      ]
     },
     "execution_count": 9,
     "metadata": {},
     "output_type": "execute_result"
    }
   ],
   "source": [
    "type(df_yel23)"
   ]
  },
  {
   "cell_type": "markdown",
   "metadata": {},
   "source": [
    "### Data Dictionary:\n",
    "\n",
    "- It is used the same previous data dictonary."
   ]
  },
  {
   "cell_type": "markdown",
   "metadata": {},
   "source": [
    "### Shape and Dimension"
   ]
  },
  {
   "cell_type": "code",
   "execution_count": 10,
   "metadata": {},
   "outputs": [
    {
     "data": {
      "text/plain": [
       "(3307234, 19)"
      ]
     },
     "execution_count": 10,
     "metadata": {},
     "output_type": "execute_result"
    }
   ],
   "source": [
    "df_yel23.shape"
   ]
  },
  {
   "cell_type": "markdown",
   "metadata": {},
   "source": [
    "Column Names and Data Types"
   ]
  },
  {
   "cell_type": "code",
   "execution_count": 11,
   "metadata": {},
   "outputs": [
    {
     "name": "stdout",
     "output_type": "stream",
     "text": [
      "<class 'pandas.core.frame.DataFrame'>\n",
      "RangeIndex: 3307234 entries, 0 to 3307233\n",
      "Data columns (total 19 columns):\n",
      " #   Column                 Dtype         \n",
      "---  ------                 -----         \n",
      " 0   VendorID               int32         \n",
      " 1   tpep_pickup_datetime   datetime64[us]\n",
      " 2   tpep_dropoff_datetime  datetime64[us]\n",
      " 3   passenger_count        float64       \n",
      " 4   trip_distance          float64       \n",
      " 5   RatecodeID             float64       \n",
      " 6   store_and_fwd_flag     object        \n",
      " 7   PULocationID           int32         \n",
      " 8   DOLocationID           int32         \n",
      " 9   payment_type           int64         \n",
      " 10  fare_amount            float64       \n",
      " 11  extra                  float64       \n",
      " 12  mta_tax                float64       \n",
      " 13  tip_amount             float64       \n",
      " 14  tolls_amount           float64       \n",
      " 15  improvement_surcharge  float64       \n",
      " 16  total_amount           float64       \n",
      " 17  congestion_surcharge   float64       \n",
      " 18  Airport_fee            float64       \n",
      "dtypes: datetime64[us](2), float64(12), int32(3), int64(1), object(1)\n",
      "memory usage: 441.6+ MB\n"
     ]
    }
   ],
   "source": [
    "df_yel23.info()"
   ]
  },
  {
   "cell_type": "markdown",
   "metadata": {},
   "source": [
    "Here we see that there are no string data in any column, we just have numberic, date and time values in this dataset."
   ]
  },
  {
   "cell_type": "markdown",
   "metadata": {},
   "source": [
    "### Data Information"
   ]
  },
  {
   "cell_type": "markdown",
   "metadata": {},
   "source": [
    "Duplicates"
   ]
  },
  {
   "cell_type": "code",
   "execution_count": 12,
   "metadata": {},
   "outputs": [
    {
     "data": {
      "text/plain": [
       "0"
      ]
     },
     "execution_count": 12,
     "metadata": {},
     "output_type": "execute_result"
    }
   ],
   "source": [
    "df_yel23.duplicated().sum()"
   ]
  },
  {
   "cell_type": "markdown",
   "metadata": {},
   "source": [
    "There are 0 duplicated rows in this dataset"
   ]
  },
  {
   "cell_type": "markdown",
   "metadata": {},
   "source": [
    "Missing and Null Values"
   ]
  },
  {
   "cell_type": "markdown",
   "metadata": {},
   "source": [
    "Below is shown that there are five columns with 132448 null values in each.\n",
    "\n",
    "Incomplete Columns:\n",
    "- passenger_count\n",
    "- RatecodeID\n",
    "- store_and_fwd_flag\n",
    "- congestion_surcharge\n",
    "- airport_fee"
   ]
  },
  {
   "cell_type": "code",
   "execution_count": 13,
   "metadata": {},
   "outputs": [
    {
     "data": {
      "text/plain": [
       "VendorID                     0\n",
       "tpep_pickup_datetime         0\n",
       "tpep_dropoff_datetime        0\n",
       "passenger_count          99887\n",
       "trip_distance                0\n",
       "RatecodeID               99887\n",
       "store_and_fwd_flag       99887\n",
       "PULocationID                 0\n",
       "DOLocationID                 0\n",
       "payment_type                 0\n",
       "fare_amount                  0\n",
       "extra                        0\n",
       "mta_tax                      0\n",
       "tip_amount                   0\n",
       "tolls_amount                 0\n",
       "improvement_surcharge        0\n",
       "total_amount                 0\n",
       "congestion_surcharge     99887\n",
       "Airport_fee              99887\n",
       "dtype: int64"
      ]
     },
     "execution_count": 13,
     "metadata": {},
     "output_type": "execute_result"
    }
   ],
   "source": [
    "df_yel23.isnull().sum()"
   ]
  },
  {
   "cell_type": "markdown",
   "metadata": {},
   "source": [
    "## GREEN TAXIS\n",
    "### Green_tripdata_2022-06\n",
    "Importing the dataset as a DataFrame"
   ]
  },
  {
   "cell_type": "code",
   "execution_count": 14,
   "metadata": {},
   "outputs": [],
   "source": [
    "green22 = pd.read_parquet('Datasets\\\\green_tripdata_2022-06.parquet')"
   ]
  },
  {
   "cell_type": "markdown",
   "metadata": {},
   "source": [
    "### Data Dictionary:\n",
    "\n",
    "- VendorID: A code indicating the TPEP provider that provided the record.\n",
    "- lpep_pickup_datetime: The date and time when the meter was engaged.\n",
    "- lpep_dropoff_datetime: The date and time when the meter was disengaged.\n",
    "- passenger_count: The number of passengers in the vehicle.\n",
    "- trip_distance: The elapsed trip distance in miles reported by the taximeter.\n",
    "- RatecodeID: The final rate code in effect at the end of the trip.\n",
    "- store_and_fwd_flag: This flag indicates whether the trip record was held in vehicle memory before sending to the vendor, aka “store and forward,” because the vehicle did not have a connection to the server.\n",
    "- PULocationID: TLC Taxi Zone in which the taximeter was engaged\n",
    "- DOLocationID: TLC Taxi Zone in which the taximeter was disengaged\n",
    "- payment_type: A numeric code signifying how the passenger paid for the trip.\n",
    "- fare_amount: The time-and-distance fare calculated by the meter.\n",
    "- extra: Miscellaneous extras and surcharges.\n",
    "- MTA_tax: $0.50 MTA tax that is automatically triggered based on the metered rate in use.\n",
    "- Improvementent_surcharge: $0.30 improvement surcharge assessed trips at the flag drop. The improvement surcharge began being levied in 2015.\n",
    "- Tip amount: Tip amount – This field is automatically populated for credit card tips. Cash tips are not included.\n",
    "- Tolls_amount: Total amount of all tolls paid in trip.\n",
    "- Total_amount: The total amount charged to passengers. Does not include cash tips.\n",
    "- Congestion_surcharge: Total amount collected in trip for NYS congestion surcharge.\n",
    "- ehail_fee: Electronic hailing (E-Hail) allows a passenger to use TLC-licensed apps to hail a taxi.\n",
    "- Trip_type: A code indicating whether the trip was a street-hail or a dispatch\n",
    "that is automatically assigned based on the metered rate in use but\n",
    "can be altered by the driver."
   ]
  },
  {
   "cell_type": "code",
   "execution_count": 15,
   "metadata": {},
   "outputs": [
    {
     "data": {
      "text/html": [
       "<div>\n",
       "<style scoped>\n",
       "    .dataframe tbody tr th:only-of-type {\n",
       "        vertical-align: middle;\n",
       "    }\n",
       "\n",
       "    .dataframe tbody tr th {\n",
       "        vertical-align: top;\n",
       "    }\n",
       "\n",
       "    .dataframe thead th {\n",
       "        text-align: right;\n",
       "    }\n",
       "</style>\n",
       "<table border=\"1\" class=\"dataframe\">\n",
       "  <thead>\n",
       "    <tr style=\"text-align: right;\">\n",
       "      <th></th>\n",
       "      <th>VendorID</th>\n",
       "      <th>lpep_pickup_datetime</th>\n",
       "      <th>lpep_dropoff_datetime</th>\n",
       "      <th>store_and_fwd_flag</th>\n",
       "      <th>RatecodeID</th>\n",
       "      <th>PULocationID</th>\n",
       "      <th>DOLocationID</th>\n",
       "      <th>passenger_count</th>\n",
       "      <th>trip_distance</th>\n",
       "      <th>fare_amount</th>\n",
       "      <th>extra</th>\n",
       "      <th>mta_tax</th>\n",
       "      <th>tip_amount</th>\n",
       "      <th>tolls_amount</th>\n",
       "      <th>ehail_fee</th>\n",
       "      <th>improvement_surcharge</th>\n",
       "      <th>total_amount</th>\n",
       "      <th>payment_type</th>\n",
       "      <th>trip_type</th>\n",
       "      <th>congestion_surcharge</th>\n",
       "    </tr>\n",
       "  </thead>\n",
       "  <tbody>\n",
       "    <tr>\n",
       "      <th>0</th>\n",
       "      <td>2</td>\n",
       "      <td>2022-06-01 00:29:05</td>\n",
       "      <td>2022-06-01 00:33:47</td>\n",
       "      <td>N</td>\n",
       "      <td>1.0</td>\n",
       "      <td>134</td>\n",
       "      <td>216</td>\n",
       "      <td>2.0</td>\n",
       "      <td>2.03</td>\n",
       "      <td>7.5</td>\n",
       "      <td>0.5</td>\n",
       "      <td>0.5</td>\n",
       "      <td>2.64</td>\n",
       "      <td>0.0</td>\n",
       "      <td>None</td>\n",
       "      <td>0.3</td>\n",
       "      <td>11.44</td>\n",
       "      <td>1.0</td>\n",
       "      <td>1.0</td>\n",
       "      <td>0.0</td>\n",
       "    </tr>\n",
       "    <tr>\n",
       "      <th>1</th>\n",
       "      <td>2</td>\n",
       "      <td>2022-06-01 01:01:36</td>\n",
       "      <td>2022-06-01 01:13:58</td>\n",
       "      <td>N</td>\n",
       "      <td>1.0</td>\n",
       "      <td>134</td>\n",
       "      <td>216</td>\n",
       "      <td>2.0</td>\n",
       "      <td>4.26</td>\n",
       "      <td>14.5</td>\n",
       "      <td>0.5</td>\n",
       "      <td>0.5</td>\n",
       "      <td>3.16</td>\n",
       "      <td>0.0</td>\n",
       "      <td>None</td>\n",
       "      <td>0.3</td>\n",
       "      <td>18.96</td>\n",
       "      <td>1.0</td>\n",
       "      <td>1.0</td>\n",
       "      <td>0.0</td>\n",
       "    </tr>\n",
       "    <tr>\n",
       "      <th>2</th>\n",
       "      <td>2</td>\n",
       "      <td>2022-06-01 00:49:20</td>\n",
       "      <td>2022-06-01 00:49:32</td>\n",
       "      <td>N</td>\n",
       "      <td>5.0</td>\n",
       "      <td>53</td>\n",
       "      <td>53</td>\n",
       "      <td>1.0</td>\n",
       "      <td>0.00</td>\n",
       "      <td>15.0</td>\n",
       "      <td>0.0</td>\n",
       "      <td>0.0</td>\n",
       "      <td>4.59</td>\n",
       "      <td>0.0</td>\n",
       "      <td>None</td>\n",
       "      <td>0.3</td>\n",
       "      <td>19.89</td>\n",
       "      <td>1.0</td>\n",
       "      <td>2.0</td>\n",
       "      <td>0.0</td>\n",
       "    </tr>\n",
       "    <tr>\n",
       "      <th>3</th>\n",
       "      <td>2</td>\n",
       "      <td>2022-06-01 00:03:55</td>\n",
       "      <td>2022-06-01 00:15:07</td>\n",
       "      <td>N</td>\n",
       "      <td>1.0</td>\n",
       "      <td>65</td>\n",
       "      <td>17</td>\n",
       "      <td>1.0</td>\n",
       "      <td>1.78</td>\n",
       "      <td>9.5</td>\n",
       "      <td>0.5</td>\n",
       "      <td>0.5</td>\n",
       "      <td>1.00</td>\n",
       "      <td>0.0</td>\n",
       "      <td>None</td>\n",
       "      <td>0.3</td>\n",
       "      <td>11.80</td>\n",
       "      <td>1.0</td>\n",
       "      <td>1.0</td>\n",
       "      <td>0.0</td>\n",
       "    </tr>\n",
       "    <tr>\n",
       "      <th>4</th>\n",
       "      <td>2</td>\n",
       "      <td>2022-06-01 00:35:38</td>\n",
       "      <td>2022-06-01 00:51:39</td>\n",
       "      <td>N</td>\n",
       "      <td>1.0</td>\n",
       "      <td>41</td>\n",
       "      <td>159</td>\n",
       "      <td>3.0</td>\n",
       "      <td>3.10</td>\n",
       "      <td>13.0</td>\n",
       "      <td>0.5</td>\n",
       "      <td>0.5</td>\n",
       "      <td>0.00</td>\n",
       "      <td>0.0</td>\n",
       "      <td>None</td>\n",
       "      <td>0.3</td>\n",
       "      <td>14.30</td>\n",
       "      <td>2.0</td>\n",
       "      <td>1.0</td>\n",
       "      <td>0.0</td>\n",
       "    </tr>\n",
       "  </tbody>\n",
       "</table>\n",
       "</div>"
      ],
      "text/plain": [
       "   VendorID lpep_pickup_datetime lpep_dropoff_datetime store_and_fwd_flag  \\\n",
       "0         2  2022-06-01 00:29:05   2022-06-01 00:33:47                  N   \n",
       "1         2  2022-06-01 01:01:36   2022-06-01 01:13:58                  N   \n",
       "2         2  2022-06-01 00:49:20   2022-06-01 00:49:32                  N   \n",
       "3         2  2022-06-01 00:03:55   2022-06-01 00:15:07                  N   \n",
       "4         2  2022-06-01 00:35:38   2022-06-01 00:51:39                  N   \n",
       "\n",
       "   RatecodeID  PULocationID  DOLocationID  passenger_count  trip_distance  \\\n",
       "0         1.0           134           216              2.0           2.03   \n",
       "1         1.0           134           216              2.0           4.26   \n",
       "2         5.0            53            53              1.0           0.00   \n",
       "3         1.0            65            17              1.0           1.78   \n",
       "4         1.0            41           159              3.0           3.10   \n",
       "\n",
       "   fare_amount  extra  mta_tax  tip_amount  tolls_amount ehail_fee  \\\n",
       "0          7.5    0.5      0.5        2.64           0.0      None   \n",
       "1         14.5    0.5      0.5        3.16           0.0      None   \n",
       "2         15.0    0.0      0.0        4.59           0.0      None   \n",
       "3          9.5    0.5      0.5        1.00           0.0      None   \n",
       "4         13.0    0.5      0.5        0.00           0.0      None   \n",
       "\n",
       "   improvement_surcharge  total_amount  payment_type  trip_type  \\\n",
       "0                    0.3         11.44           1.0        1.0   \n",
       "1                    0.3         18.96           1.0        1.0   \n",
       "2                    0.3         19.89           1.0        2.0   \n",
       "3                    0.3         11.80           1.0        1.0   \n",
       "4                    0.3         14.30           2.0        1.0   \n",
       "\n",
       "   congestion_surcharge  \n",
       "0                   0.0  \n",
       "1                   0.0  \n",
       "2                   0.0  \n",
       "3                   0.0  \n",
       "4                   0.0  "
      ]
     },
     "execution_count": 15,
     "metadata": {},
     "output_type": "execute_result"
    }
   ],
   "source": [
    "green22.head()"
   ]
  },
  {
   "cell_type": "markdown",
   "metadata": {},
   "source": [
    "### Shape and Dimension"
   ]
  },
  {
   "cell_type": "code",
   "execution_count": 16,
   "metadata": {},
   "outputs": [
    {
     "data": {
      "text/plain": [
       "(73718, 20)"
      ]
     },
     "execution_count": 16,
     "metadata": {},
     "output_type": "execute_result"
    }
   ],
   "source": [
    "green22.shape"
   ]
  },
  {
   "cell_type": "markdown",
   "metadata": {},
   "source": [
    "Column Names and Data Types"
   ]
  },
  {
   "cell_type": "code",
   "execution_count": 17,
   "metadata": {},
   "outputs": [
    {
     "data": {
      "text/plain": [
       "VendorID                          int64\n",
       "lpep_pickup_datetime     datetime64[us]\n",
       "lpep_dropoff_datetime    datetime64[us]\n",
       "store_and_fwd_flag               object\n",
       "RatecodeID                      float64\n",
       "PULocationID                      int64\n",
       "DOLocationID                      int64\n",
       "passenger_count                 float64\n",
       "trip_distance                   float64\n",
       "fare_amount                     float64\n",
       "extra                           float64\n",
       "mta_tax                         float64\n",
       "tip_amount                      float64\n",
       "tolls_amount                    float64\n",
       "ehail_fee                        object\n",
       "improvement_surcharge           float64\n",
       "total_amount                    float64\n",
       "payment_type                    float64\n",
       "trip_type                       float64\n",
       "congestion_surcharge            float64\n",
       "dtype: object"
      ]
     },
     "execution_count": 17,
     "metadata": {},
     "output_type": "execute_result"
    }
   ],
   "source": [
    "green22.dtypes"
   ]
  },
  {
   "cell_type": "markdown",
   "metadata": {},
   "source": [
    "We see there are no text fields, they are all numbers. But some of those are categories or ID values:\n",
    "- VendorID\n",
    "- RatecodeID\n",
    "- PULocationID\n",
    "- DOLocationID\n",
    "- store_and_fwd_flag \n",
    "- Trip_type\n",
    "- payment_type\n",
    "\n",
    "Numeric values:\n",
    "- passenger_count\n",
    "- trip_distance\n",
    "- fare_amount\n",
    "- extra\n",
    "- mta_tax\n",
    "- tip_amount\n",
    "- tolls_amount\n",
    "- improvement_surcharge\n",
    "- total_amount\n",
    "- congestion_surcharge"
   ]
  },
  {
   "cell_type": "markdown",
   "metadata": {},
   "source": [
    "### Data Information"
   ]
  },
  {
   "cell_type": "markdown",
   "metadata": {},
   "source": [
    "Duplicates"
   ]
  },
  {
   "cell_type": "code",
   "execution_count": 18,
   "metadata": {},
   "outputs": [
    {
     "data": {
      "text/plain": [
       "0"
      ]
     },
     "execution_count": 18,
     "metadata": {},
     "output_type": "execute_result"
    }
   ],
   "source": [
    "green22.duplicated().sum()"
   ]
  },
  {
   "cell_type": "markdown",
   "metadata": {},
   "source": [
    "There are no duplicated rows in this dataset."
   ]
  },
  {
   "cell_type": "markdown",
   "metadata": {},
   "source": [
    "Missing and Null Values"
   ]
  },
  {
   "cell_type": "code",
   "execution_count": 19,
   "metadata": {},
   "outputs": [
    {
     "data": {
      "text/plain": [
       "VendorID                     0\n",
       "lpep_pickup_datetime         0\n",
       "lpep_dropoff_datetime        0\n",
       "store_and_fwd_flag        9282\n",
       "RatecodeID                9282\n",
       "PULocationID                 0\n",
       "DOLocationID                 0\n",
       "passenger_count           9282\n",
       "trip_distance                0\n",
       "fare_amount                  0\n",
       "extra                        0\n",
       "mta_tax                      0\n",
       "tip_amount                   0\n",
       "tolls_amount                 0\n",
       "ehail_fee                73718\n",
       "improvement_surcharge        0\n",
       "total_amount                 0\n",
       "payment_type              9282\n",
       "trip_type                 9283\n",
       "congestion_surcharge      9282\n",
       "dtype: int64"
      ]
     },
     "execution_count": 19,
     "metadata": {},
     "output_type": "execute_result"
    }
   ],
   "source": [
    "green22.isna().sum()"
   ]
  },
  {
   "cell_type": "markdown",
   "metadata": {},
   "source": [
    "In all 73718 rows, the column 'ehail_fee' is completely empty. And that we have some missing values in the columns `store_and_fwd_flag`, 'RatecodeID', 'passenger_count', 'payment_type', 'trip_type' and 'congestion_surcharge'.\n",
    "\n",
    "As the number of missing values is the same in these columns, it could be that they are in the same rows, we could see that in further analysis. For now, we could say that the number of null values is around the 12% of the dataset."
   ]
  },
  {
   "cell_type": "markdown",
   "metadata": {},
   "source": [
    "### Summary Statistics"
   ]
  },
  {
   "cell_type": "code",
   "execution_count": 20,
   "metadata": {},
   "outputs": [
    {
     "data": {
      "text/html": [
       "<div>\n",
       "<style scoped>\n",
       "    .dataframe tbody tr th:only-of-type {\n",
       "        vertical-align: middle;\n",
       "    }\n",
       "\n",
       "    .dataframe tbody tr th {\n",
       "        vertical-align: top;\n",
       "    }\n",
       "\n",
       "    .dataframe thead th {\n",
       "        text-align: right;\n",
       "    }\n",
       "</style>\n",
       "<table border=\"1\" class=\"dataframe\">\n",
       "  <thead>\n",
       "    <tr style=\"text-align: right;\">\n",
       "      <th></th>\n",
       "      <th>passenger_count</th>\n",
       "      <th>trip_distance</th>\n",
       "      <th>fare_amount</th>\n",
       "      <th>extra</th>\n",
       "      <th>mta_tax</th>\n",
       "      <th>tip_amount</th>\n",
       "      <th>tolls_amount</th>\n",
       "      <th>improvement_surcharge</th>\n",
       "      <th>total_amount</th>\n",
       "      <th>congestion_surcharge</th>\n",
       "    </tr>\n",
       "  </thead>\n",
       "  <tbody>\n",
       "    <tr>\n",
       "      <th>count</th>\n",
       "      <td>64436.000000</td>\n",
       "      <td>73718.000000</td>\n",
       "      <td>73718.000000</td>\n",
       "      <td>73718.000000</td>\n",
       "      <td>73718.000000</td>\n",
       "      <td>73718.000000</td>\n",
       "      <td>73718.000000</td>\n",
       "      <td>73718.000000</td>\n",
       "      <td>73718.000000</td>\n",
       "      <td>64436.000000</td>\n",
       "    </tr>\n",
       "    <tr>\n",
       "      <th>mean</th>\n",
       "      <td>1.283723</td>\n",
       "      <td>104.576467</td>\n",
       "      <td>15.671497</td>\n",
       "      <td>0.346503</td>\n",
       "      <td>0.412261</td>\n",
       "      <td>2.115920</td>\n",
       "      <td>0.277911</td>\n",
       "      <td>0.297037</td>\n",
       "      <td>19.793064</td>\n",
       "      <td>0.740933</td>\n",
       "    </tr>\n",
       "    <tr>\n",
       "      <th>std</th>\n",
       "      <td>0.909935</td>\n",
       "      <td>3609.883882</td>\n",
       "      <td>14.004140</td>\n",
       "      <td>0.650320</td>\n",
       "      <td>0.193454</td>\n",
       "      <td>3.250391</td>\n",
       "      <td>1.412800</td>\n",
       "      <td>0.036460</td>\n",
       "      <td>16.203584</td>\n",
       "      <td>1.220242</td>\n",
       "    </tr>\n",
       "    <tr>\n",
       "      <th>min</th>\n",
       "      <td>0.000000</td>\n",
       "      <td>0.000000</td>\n",
       "      <td>-85.000000</td>\n",
       "      <td>-4.500000</td>\n",
       "      <td>-0.500000</td>\n",
       "      <td>-0.960000</td>\n",
       "      <td>0.000000</td>\n",
       "      <td>-0.300000</td>\n",
       "      <td>-85.300000</td>\n",
       "      <td>-2.750000</td>\n",
       "    </tr>\n",
       "    <tr>\n",
       "      <th>25%</th>\n",
       "      <td>1.000000</td>\n",
       "      <td>1.170000</td>\n",
       "      <td>8.000000</td>\n",
       "      <td>0.000000</td>\n",
       "      <td>0.500000</td>\n",
       "      <td>0.000000</td>\n",
       "      <td>0.000000</td>\n",
       "      <td>0.300000</td>\n",
       "      <td>10.300000</td>\n",
       "      <td>0.000000</td>\n",
       "    </tr>\n",
       "    <tr>\n",
       "      <th>50%</th>\n",
       "      <td>1.000000</td>\n",
       "      <td>2.100000</td>\n",
       "      <td>11.500000</td>\n",
       "      <td>0.000000</td>\n",
       "      <td>0.500000</td>\n",
       "      <td>1.500000</td>\n",
       "      <td>0.000000</td>\n",
       "      <td>0.300000</td>\n",
       "      <td>15.360000</td>\n",
       "      <td>0.000000</td>\n",
       "    </tr>\n",
       "    <tr>\n",
       "      <th>75%</th>\n",
       "      <td>1.000000</td>\n",
       "      <td>3.910000</td>\n",
       "      <td>19.000000</td>\n",
       "      <td>0.500000</td>\n",
       "      <td>0.500000</td>\n",
       "      <td>3.010000</td>\n",
       "      <td>0.000000</td>\n",
       "      <td>0.300000</td>\n",
       "      <td>23.727500</td>\n",
       "      <td>2.750000</td>\n",
       "    </tr>\n",
       "    <tr>\n",
       "      <th>max</th>\n",
       "      <td>8.000000</td>\n",
       "      <td>292061.660000</td>\n",
       "      <td>399.500000</td>\n",
       "      <td>4.500000</td>\n",
       "      <td>3.550000</td>\n",
       "      <td>222.250000</td>\n",
       "      <td>31.750000</td>\n",
       "      <td>0.300000</td>\n",
       "      <td>400.300000</td>\n",
       "      <td>2.750000</td>\n",
       "    </tr>\n",
       "  </tbody>\n",
       "</table>\n",
       "</div>"
      ],
      "text/plain": [
       "       passenger_count  trip_distance   fare_amount         extra  \\\n",
       "count     64436.000000   73718.000000  73718.000000  73718.000000   \n",
       "mean          1.283723     104.576467     15.671497      0.346503   \n",
       "std           0.909935    3609.883882     14.004140      0.650320   \n",
       "min           0.000000       0.000000    -85.000000     -4.500000   \n",
       "25%           1.000000       1.170000      8.000000      0.000000   \n",
       "50%           1.000000       2.100000     11.500000      0.000000   \n",
       "75%           1.000000       3.910000     19.000000      0.500000   \n",
       "max           8.000000  292061.660000    399.500000      4.500000   \n",
       "\n",
       "            mta_tax    tip_amount  tolls_amount  improvement_surcharge  \\\n",
       "count  73718.000000  73718.000000  73718.000000           73718.000000   \n",
       "mean       0.412261      2.115920      0.277911               0.297037   \n",
       "std        0.193454      3.250391      1.412800               0.036460   \n",
       "min       -0.500000     -0.960000      0.000000              -0.300000   \n",
       "25%        0.500000      0.000000      0.000000               0.300000   \n",
       "50%        0.500000      1.500000      0.000000               0.300000   \n",
       "75%        0.500000      3.010000      0.000000               0.300000   \n",
       "max        3.550000    222.250000     31.750000               0.300000   \n",
       "\n",
       "       total_amount  congestion_surcharge  \n",
       "count  73718.000000          64436.000000  \n",
       "mean      19.793064              0.740933  \n",
       "std       16.203584              1.220242  \n",
       "min      -85.300000             -2.750000  \n",
       "25%       10.300000              0.000000  \n",
       "50%       15.360000              0.000000  \n",
       "75%       23.727500              2.750000  \n",
       "max      400.300000              2.750000  "
      ]
     },
     "execution_count": 20,
     "metadata": {},
     "output_type": "execute_result"
    }
   ],
   "source": [
    "numcolumns = ['passenger_count', 'trip_distance', 'fare_amount', 'extra', 'mta_tax', 'tip_amount', 'tolls_amount', 'improvement_surcharge', 'total_amount', 'congestion_surcharge'] \n",
    "\n",
    "green22[numcolumns].describe()"
   ]
  },
  {
   "cell_type": "markdown",
   "metadata": {},
   "source": [
    "We can see there're some outliers, including negative values for amounts paid, and a maximum distance of 292061 miles."
   ]
  },
  {
   "cell_type": "markdown",
   "metadata": {},
   "source": [
    "### Data Distribution"
   ]
  },
  {
   "cell_type": "markdown",
   "metadata": {},
   "source": [
    "Now, we'll analyze the distribution of pick up and drop off locations."
   ]
  },
  {
   "cell_type": "code",
   "execution_count": 21,
   "metadata": {},
   "outputs": [],
   "source": [
    "Newark_zone = [1]\n",
    "JFK_zone = [132]\n",
    "LaGuardia_zone = [138]\n",
    "Manhattan_zones = [4, 12, 13, 24, 41, 42, 43, 45, 48, 50, 68, 74, 75, 79, 87, 88, 90, 103, 107, 113, 114, 116, 120, 125, \n",
    "             127, 128, 137, 140, 141, 142, 143, 144, 148, 151, 152, 153, 158, 161, 162, 163, 164, 166, 170, 186, 194,\n",
    "               202, 209, 211, 224, 229, 230, 231, 232, 233, 234, 236, 237, 238, 239, 243, 244, 246, 249, 261, 262, 263]"
   ]
  },
  {
   "cell_type": "code",
   "execution_count": 22,
   "metadata": {},
   "outputs": [
    {
     "data": {
      "text/html": [
       "<div>\n",
       "<style scoped>\n",
       "    .dataframe tbody tr th:only-of-type {\n",
       "        vertical-align: middle;\n",
       "    }\n",
       "\n",
       "    .dataframe tbody tr th {\n",
       "        vertical-align: top;\n",
       "    }\n",
       "\n",
       "    .dataframe thead th {\n",
       "        text-align: right;\n",
       "    }\n",
       "</style>\n",
       "<table border=\"1\" class=\"dataframe\">\n",
       "  <thead>\n",
       "    <tr style=\"text-align: right;\">\n",
       "      <th></th>\n",
       "      <th>VendorID</th>\n",
       "      <th>lpep_pickup_datetime</th>\n",
       "      <th>lpep_dropoff_datetime</th>\n",
       "      <th>store_and_fwd_flag</th>\n",
       "      <th>RatecodeID</th>\n",
       "      <th>PULocationID</th>\n",
       "      <th>DOLocationID</th>\n",
       "      <th>passenger_count</th>\n",
       "      <th>trip_distance</th>\n",
       "      <th>fare_amount</th>\n",
       "      <th>extra</th>\n",
       "      <th>mta_tax</th>\n",
       "      <th>tip_amount</th>\n",
       "      <th>tolls_amount</th>\n",
       "      <th>ehail_fee</th>\n",
       "      <th>improvement_surcharge</th>\n",
       "      <th>total_amount</th>\n",
       "      <th>payment_type</th>\n",
       "      <th>trip_type</th>\n",
       "      <th>congestion_surcharge</th>\n",
       "    </tr>\n",
       "  </thead>\n",
       "  <tbody>\n",
       "    <tr>\n",
       "      <th>4</th>\n",
       "      <td>2</td>\n",
       "      <td>2022-06-01 00:35:38</td>\n",
       "      <td>2022-06-01 00:51:39</td>\n",
       "      <td>N</td>\n",
       "      <td>1.0</td>\n",
       "      <td>41</td>\n",
       "      <td>159</td>\n",
       "      <td>3.0</td>\n",
       "      <td>3.10</td>\n",
       "      <td>13.00</td>\n",
       "      <td>0.5</td>\n",
       "      <td>0.5</td>\n",
       "      <td>0.00</td>\n",
       "      <td>0.00</td>\n",
       "      <td>None</td>\n",
       "      <td>0.3</td>\n",
       "      <td>14.30</td>\n",
       "      <td>2.0</td>\n",
       "      <td>1.0</td>\n",
       "      <td>0.00</td>\n",
       "    </tr>\n",
       "    <tr>\n",
       "      <th>5</th>\n",
       "      <td>2</td>\n",
       "      <td>2022-06-01 00:28:58</td>\n",
       "      <td>2022-06-01 00:53:32</td>\n",
       "      <td>N</td>\n",
       "      <td>1.0</td>\n",
       "      <td>42</td>\n",
       "      <td>216</td>\n",
       "      <td>1.0</td>\n",
       "      <td>16.18</td>\n",
       "      <td>43.50</td>\n",
       "      <td>0.5</td>\n",
       "      <td>0.5</td>\n",
       "      <td>0.00</td>\n",
       "      <td>6.55</td>\n",
       "      <td>None</td>\n",
       "      <td>0.3</td>\n",
       "      <td>51.35</td>\n",
       "      <td>2.0</td>\n",
       "      <td>1.0</td>\n",
       "      <td>0.00</td>\n",
       "    </tr>\n",
       "    <tr>\n",
       "      <th>6</th>\n",
       "      <td>2</td>\n",
       "      <td>2022-06-01 00:17:24</td>\n",
       "      <td>2022-06-01 00:24:15</td>\n",
       "      <td>N</td>\n",
       "      <td>1.0</td>\n",
       "      <td>75</td>\n",
       "      <td>236</td>\n",
       "      <td>1.0</td>\n",
       "      <td>1.16</td>\n",
       "      <td>7.00</td>\n",
       "      <td>0.5</td>\n",
       "      <td>0.5</td>\n",
       "      <td>0.00</td>\n",
       "      <td>0.00</td>\n",
       "      <td>None</td>\n",
       "      <td>0.3</td>\n",
       "      <td>11.05</td>\n",
       "      <td>2.0</td>\n",
       "      <td>1.0</td>\n",
       "      <td>2.75</td>\n",
       "    </tr>\n",
       "    <tr>\n",
       "      <th>7</th>\n",
       "      <td>2</td>\n",
       "      <td>2022-06-01 00:57:08</td>\n",
       "      <td>2022-06-01 01:18:30</td>\n",
       "      <td>N</td>\n",
       "      <td>1.0</td>\n",
       "      <td>75</td>\n",
       "      <td>235</td>\n",
       "      <td>1.0</td>\n",
       "      <td>6.00</td>\n",
       "      <td>20.00</td>\n",
       "      <td>0.5</td>\n",
       "      <td>0.5</td>\n",
       "      <td>5.00</td>\n",
       "      <td>0.00</td>\n",
       "      <td>None</td>\n",
       "      <td>0.3</td>\n",
       "      <td>26.30</td>\n",
       "      <td>1.0</td>\n",
       "      <td>1.0</td>\n",
       "      <td>0.00</td>\n",
       "    </tr>\n",
       "    <tr>\n",
       "      <th>16</th>\n",
       "      <td>2</td>\n",
       "      <td>2022-06-01 00:37:41</td>\n",
       "      <td>2022-06-01 00:46:04</td>\n",
       "      <td>N</td>\n",
       "      <td>1.0</td>\n",
       "      <td>202</td>\n",
       "      <td>7</td>\n",
       "      <td>1.0</td>\n",
       "      <td>1.98</td>\n",
       "      <td>8.50</td>\n",
       "      <td>0.5</td>\n",
       "      <td>0.5</td>\n",
       "      <td>20.00</td>\n",
       "      <td>0.00</td>\n",
       "      <td>None</td>\n",
       "      <td>0.3</td>\n",
       "      <td>29.80</td>\n",
       "      <td>1.0</td>\n",
       "      <td>1.0</td>\n",
       "      <td>0.00</td>\n",
       "    </tr>\n",
       "    <tr>\n",
       "      <th>...</th>\n",
       "      <td>...</td>\n",
       "      <td>...</td>\n",
       "      <td>...</td>\n",
       "      <td>...</td>\n",
       "      <td>...</td>\n",
       "      <td>...</td>\n",
       "      <td>...</td>\n",
       "      <td>...</td>\n",
       "      <td>...</td>\n",
       "      <td>...</td>\n",
       "      <td>...</td>\n",
       "      <td>...</td>\n",
       "      <td>...</td>\n",
       "      <td>...</td>\n",
       "      <td>...</td>\n",
       "      <td>...</td>\n",
       "      <td>...</td>\n",
       "      <td>...</td>\n",
       "      <td>...</td>\n",
       "      <td>...</td>\n",
       "    </tr>\n",
       "    <tr>\n",
       "      <th>73704</th>\n",
       "      <td>2</td>\n",
       "      <td>2022-06-30 21:05:00</td>\n",
       "      <td>2022-06-30 21:13:00</td>\n",
       "      <td>None</td>\n",
       "      <td>NaN</td>\n",
       "      <td>43</td>\n",
       "      <td>151</td>\n",
       "      <td>NaN</td>\n",
       "      <td>1.82</td>\n",
       "      <td>9.90</td>\n",
       "      <td>0.0</td>\n",
       "      <td>0.0</td>\n",
       "      <td>2.39</td>\n",
       "      <td>0.00</td>\n",
       "      <td>None</td>\n",
       "      <td>0.3</td>\n",
       "      <td>12.59</td>\n",
       "      <td>NaN</td>\n",
       "      <td>NaN</td>\n",
       "      <td>NaN</td>\n",
       "    </tr>\n",
       "    <tr>\n",
       "      <th>73706</th>\n",
       "      <td>2</td>\n",
       "      <td>2022-06-30 21:33:00</td>\n",
       "      <td>2022-06-30 21:57:00</td>\n",
       "      <td>None</td>\n",
       "      <td>NaN</td>\n",
       "      <td>74</td>\n",
       "      <td>59</td>\n",
       "      <td>NaN</td>\n",
       "      <td>6.78</td>\n",
       "      <td>16.93</td>\n",
       "      <td>0.0</td>\n",
       "      <td>0.0</td>\n",
       "      <td>0.00</td>\n",
       "      <td>0.00</td>\n",
       "      <td>None</td>\n",
       "      <td>0.3</td>\n",
       "      <td>17.23</td>\n",
       "      <td>NaN</td>\n",
       "      <td>NaN</td>\n",
       "      <td>NaN</td>\n",
       "    </tr>\n",
       "    <tr>\n",
       "      <th>73710</th>\n",
       "      <td>2</td>\n",
       "      <td>2022-06-30 21:09:00</td>\n",
       "      <td>2022-06-30 21:26:00</td>\n",
       "      <td>None</td>\n",
       "      <td>NaN</td>\n",
       "      <td>41</td>\n",
       "      <td>224</td>\n",
       "      <td>NaN</td>\n",
       "      <td>6.01</td>\n",
       "      <td>22.87</td>\n",
       "      <td>0.0</td>\n",
       "      <td>0.0</td>\n",
       "      <td>4.37</td>\n",
       "      <td>0.00</td>\n",
       "      <td>None</td>\n",
       "      <td>0.3</td>\n",
       "      <td>30.29</td>\n",
       "      <td>NaN</td>\n",
       "      <td>NaN</td>\n",
       "      <td>NaN</td>\n",
       "    </tr>\n",
       "    <tr>\n",
       "      <th>73711</th>\n",
       "      <td>2</td>\n",
       "      <td>2022-06-30 21:06:00</td>\n",
       "      <td>2022-06-30 21:24:00</td>\n",
       "      <td>None</td>\n",
       "      <td>NaN</td>\n",
       "      <td>42</td>\n",
       "      <td>235</td>\n",
       "      <td>NaN</td>\n",
       "      <td>4.08</td>\n",
       "      <td>16.70</td>\n",
       "      <td>0.0</td>\n",
       "      <td>0.0</td>\n",
       "      <td>0.00</td>\n",
       "      <td>0.00</td>\n",
       "      <td>None</td>\n",
       "      <td>0.3</td>\n",
       "      <td>17.00</td>\n",
       "      <td>NaN</td>\n",
       "      <td>NaN</td>\n",
       "      <td>NaN</td>\n",
       "    </tr>\n",
       "    <tr>\n",
       "      <th>73713</th>\n",
       "      <td>2</td>\n",
       "      <td>2022-06-30 22:33:00</td>\n",
       "      <td>2022-06-30 22:46:00</td>\n",
       "      <td>None</td>\n",
       "      <td>NaN</td>\n",
       "      <td>74</td>\n",
       "      <td>169</td>\n",
       "      <td>NaN</td>\n",
       "      <td>2.86</td>\n",
       "      <td>18.66</td>\n",
       "      <td>0.0</td>\n",
       "      <td>0.0</td>\n",
       "      <td>2.30</td>\n",
       "      <td>0.00</td>\n",
       "      <td>None</td>\n",
       "      <td>0.3</td>\n",
       "      <td>21.26</td>\n",
       "      <td>NaN</td>\n",
       "      <td>NaN</td>\n",
       "      <td>NaN</td>\n",
       "    </tr>\n",
       "  </tbody>\n",
       "</table>\n",
       "<p>41133 rows × 20 columns</p>\n",
       "</div>"
      ],
      "text/plain": [
       "       VendorID lpep_pickup_datetime lpep_dropoff_datetime store_and_fwd_flag  \\\n",
       "4             2  2022-06-01 00:35:38   2022-06-01 00:51:39                  N   \n",
       "5             2  2022-06-01 00:28:58   2022-06-01 00:53:32                  N   \n",
       "6             2  2022-06-01 00:17:24   2022-06-01 00:24:15                  N   \n",
       "7             2  2022-06-01 00:57:08   2022-06-01 01:18:30                  N   \n",
       "16            2  2022-06-01 00:37:41   2022-06-01 00:46:04                  N   \n",
       "...         ...                  ...                   ...                ...   \n",
       "73704         2  2022-06-30 21:05:00   2022-06-30 21:13:00               None   \n",
       "73706         2  2022-06-30 21:33:00   2022-06-30 21:57:00               None   \n",
       "73710         2  2022-06-30 21:09:00   2022-06-30 21:26:00               None   \n",
       "73711         2  2022-06-30 21:06:00   2022-06-30 21:24:00               None   \n",
       "73713         2  2022-06-30 22:33:00   2022-06-30 22:46:00               None   \n",
       "\n",
       "       RatecodeID  PULocationID  DOLocationID  passenger_count  trip_distance  \\\n",
       "4             1.0            41           159              3.0           3.10   \n",
       "5             1.0            42           216              1.0          16.18   \n",
       "6             1.0            75           236              1.0           1.16   \n",
       "7             1.0            75           235              1.0           6.00   \n",
       "16            1.0           202             7              1.0           1.98   \n",
       "...           ...           ...           ...              ...            ...   \n",
       "73704         NaN            43           151              NaN           1.82   \n",
       "73706         NaN            74            59              NaN           6.78   \n",
       "73710         NaN            41           224              NaN           6.01   \n",
       "73711         NaN            42           235              NaN           4.08   \n",
       "73713         NaN            74           169              NaN           2.86   \n",
       "\n",
       "       fare_amount  extra  mta_tax  tip_amount  tolls_amount ehail_fee  \\\n",
       "4            13.00    0.5      0.5        0.00          0.00      None   \n",
       "5            43.50    0.5      0.5        0.00          6.55      None   \n",
       "6             7.00    0.5      0.5        0.00          0.00      None   \n",
       "7            20.00    0.5      0.5        5.00          0.00      None   \n",
       "16            8.50    0.5      0.5       20.00          0.00      None   \n",
       "...            ...    ...      ...         ...           ...       ...   \n",
       "73704         9.90    0.0      0.0        2.39          0.00      None   \n",
       "73706        16.93    0.0      0.0        0.00          0.00      None   \n",
       "73710        22.87    0.0      0.0        4.37          0.00      None   \n",
       "73711        16.70    0.0      0.0        0.00          0.00      None   \n",
       "73713        18.66    0.0      0.0        2.30          0.00      None   \n",
       "\n",
       "       improvement_surcharge  total_amount  payment_type  trip_type  \\\n",
       "4                        0.3         14.30           2.0        1.0   \n",
       "5                        0.3         51.35           2.0        1.0   \n",
       "6                        0.3         11.05           2.0        1.0   \n",
       "7                        0.3         26.30           1.0        1.0   \n",
       "16                       0.3         29.80           1.0        1.0   \n",
       "...                      ...           ...           ...        ...   \n",
       "73704                    0.3         12.59           NaN        NaN   \n",
       "73706                    0.3         17.23           NaN        NaN   \n",
       "73710                    0.3         30.29           NaN        NaN   \n",
       "73711                    0.3         17.00           NaN        NaN   \n",
       "73713                    0.3         21.26           NaN        NaN   \n",
       "\n",
       "       congestion_surcharge  \n",
       "4                      0.00  \n",
       "5                      0.00  \n",
       "6                      2.75  \n",
       "7                      0.00  \n",
       "16                     0.00  \n",
       "...                     ...  \n",
       "73704                   NaN  \n",
       "73706                   NaN  \n",
       "73710                   NaN  \n",
       "73711                   NaN  \n",
       "73713                   NaN  \n",
       "\n",
       "[41133 rows x 20 columns]"
      ]
     },
     "execution_count": 22,
     "metadata": {},
     "output_type": "execute_result"
    }
   ],
   "source": [
    "manhattan_pu = green22.loc[green22.PULocationID.isin(Manhattan_zones)]\n",
    "manhattan_pu"
   ]
  },
  {
   "cell_type": "code",
   "execution_count": 23,
   "metadata": {},
   "outputs": [
    {
     "data": {
      "text/html": [
       "<div>\n",
       "<style scoped>\n",
       "    .dataframe tbody tr th:only-of-type {\n",
       "        vertical-align: middle;\n",
       "    }\n",
       "\n",
       "    .dataframe tbody tr th {\n",
       "        vertical-align: top;\n",
       "    }\n",
       "\n",
       "    .dataframe thead th {\n",
       "        text-align: right;\n",
       "    }\n",
       "</style>\n",
       "<table border=\"1\" class=\"dataframe\">\n",
       "  <thead>\n",
       "    <tr style=\"text-align: right;\">\n",
       "      <th></th>\n",
       "      <th>VendorID</th>\n",
       "      <th>lpep_pickup_datetime</th>\n",
       "      <th>lpep_dropoff_datetime</th>\n",
       "      <th>store_and_fwd_flag</th>\n",
       "      <th>RatecodeID</th>\n",
       "      <th>PULocationID</th>\n",
       "      <th>DOLocationID</th>\n",
       "      <th>passenger_count</th>\n",
       "      <th>trip_distance</th>\n",
       "      <th>fare_amount</th>\n",
       "      <th>extra</th>\n",
       "      <th>mta_tax</th>\n",
       "      <th>tip_amount</th>\n",
       "      <th>tolls_amount</th>\n",
       "      <th>ehail_fee</th>\n",
       "      <th>improvement_surcharge</th>\n",
       "      <th>total_amount</th>\n",
       "      <th>payment_type</th>\n",
       "      <th>trip_type</th>\n",
       "      <th>congestion_surcharge</th>\n",
       "    </tr>\n",
       "  </thead>\n",
       "  <tbody>\n",
       "    <tr>\n",
       "      <th>6</th>\n",
       "      <td>2</td>\n",
       "      <td>2022-06-01 00:17:24</td>\n",
       "      <td>2022-06-01 00:24:15</td>\n",
       "      <td>N</td>\n",
       "      <td>1.0</td>\n",
       "      <td>75</td>\n",
       "      <td>236</td>\n",
       "      <td>1.0</td>\n",
       "      <td>1.16</td>\n",
       "      <td>7.00</td>\n",
       "      <td>0.5</td>\n",
       "      <td>0.5</td>\n",
       "      <td>0.00</td>\n",
       "      <td>0.0</td>\n",
       "      <td>None</td>\n",
       "      <td>0.3</td>\n",
       "      <td>11.05</td>\n",
       "      <td>2.0</td>\n",
       "      <td>1.0</td>\n",
       "      <td>2.75</td>\n",
       "    </tr>\n",
       "    <tr>\n",
       "      <th>18</th>\n",
       "      <td>2</td>\n",
       "      <td>2022-06-01 00:49:50</td>\n",
       "      <td>2022-06-01 00:55:32</td>\n",
       "      <td>N</td>\n",
       "      <td>1.0</td>\n",
       "      <td>166</td>\n",
       "      <td>166</td>\n",
       "      <td>1.0</td>\n",
       "      <td>0.95</td>\n",
       "      <td>5.50</td>\n",
       "      <td>0.5</td>\n",
       "      <td>0.5</td>\n",
       "      <td>1.36</td>\n",
       "      <td>0.0</td>\n",
       "      <td>None</td>\n",
       "      <td>0.3</td>\n",
       "      <td>8.16</td>\n",
       "      <td>1.0</td>\n",
       "      <td>1.0</td>\n",
       "      <td>0.00</td>\n",
       "    </tr>\n",
       "    <tr>\n",
       "      <th>20</th>\n",
       "      <td>2</td>\n",
       "      <td>2022-06-01 00:36:37</td>\n",
       "      <td>2022-06-01 00:42:29</td>\n",
       "      <td>N</td>\n",
       "      <td>1.0</td>\n",
       "      <td>75</td>\n",
       "      <td>238</td>\n",
       "      <td>1.0</td>\n",
       "      <td>1.19</td>\n",
       "      <td>6.50</td>\n",
       "      <td>0.5</td>\n",
       "      <td>0.5</td>\n",
       "      <td>2.00</td>\n",
       "      <td>0.0</td>\n",
       "      <td>None</td>\n",
       "      <td>0.3</td>\n",
       "      <td>12.55</td>\n",
       "      <td>1.0</td>\n",
       "      <td>1.0</td>\n",
       "      <td>2.75</td>\n",
       "    </tr>\n",
       "    <tr>\n",
       "      <th>22</th>\n",
       "      <td>2</td>\n",
       "      <td>2022-06-01 00:03:39</td>\n",
       "      <td>2022-06-01 00:14:59</td>\n",
       "      <td>N</td>\n",
       "      <td>1.0</td>\n",
       "      <td>74</td>\n",
       "      <td>166</td>\n",
       "      <td>1.0</td>\n",
       "      <td>1.58</td>\n",
       "      <td>9.00</td>\n",
       "      <td>0.5</td>\n",
       "      <td>0.5</td>\n",
       "      <td>1.85</td>\n",
       "      <td>0.0</td>\n",
       "      <td>None</td>\n",
       "      <td>0.3</td>\n",
       "      <td>12.15</td>\n",
       "      <td>1.0</td>\n",
       "      <td>1.0</td>\n",
       "      <td>0.00</td>\n",
       "    </tr>\n",
       "    <tr>\n",
       "      <th>29</th>\n",
       "      <td>2</td>\n",
       "      <td>2022-06-01 01:02:19</td>\n",
       "      <td>2022-06-01 01:14:39</td>\n",
       "      <td>N</td>\n",
       "      <td>1.0</td>\n",
       "      <td>41</td>\n",
       "      <td>140</td>\n",
       "      <td>1.0</td>\n",
       "      <td>3.52</td>\n",
       "      <td>13.00</td>\n",
       "      <td>0.5</td>\n",
       "      <td>0.5</td>\n",
       "      <td>0.00</td>\n",
       "      <td>0.0</td>\n",
       "      <td>None</td>\n",
       "      <td>0.3</td>\n",
       "      <td>17.05</td>\n",
       "      <td>2.0</td>\n",
       "      <td>1.0</td>\n",
       "      <td>2.75</td>\n",
       "    </tr>\n",
       "    <tr>\n",
       "      <th>...</th>\n",
       "      <td>...</td>\n",
       "      <td>...</td>\n",
       "      <td>...</td>\n",
       "      <td>...</td>\n",
       "      <td>...</td>\n",
       "      <td>...</td>\n",
       "      <td>...</td>\n",
       "      <td>...</td>\n",
       "      <td>...</td>\n",
       "      <td>...</td>\n",
       "      <td>...</td>\n",
       "      <td>...</td>\n",
       "      <td>...</td>\n",
       "      <td>...</td>\n",
       "      <td>...</td>\n",
       "      <td>...</td>\n",
       "      <td>...</td>\n",
       "      <td>...</td>\n",
       "      <td>...</td>\n",
       "      <td>...</td>\n",
       "    </tr>\n",
       "    <tr>\n",
       "      <th>73702</th>\n",
       "      <td>2</td>\n",
       "      <td>2022-06-30 20:55:00</td>\n",
       "      <td>2022-06-30 21:07:00</td>\n",
       "      <td>None</td>\n",
       "      <td>NaN</td>\n",
       "      <td>41</td>\n",
       "      <td>142</td>\n",
       "      <td>NaN</td>\n",
       "      <td>2.89</td>\n",
       "      <td>12.58</td>\n",
       "      <td>0.0</td>\n",
       "      <td>0.0</td>\n",
       "      <td>3.53</td>\n",
       "      <td>0.0</td>\n",
       "      <td>None</td>\n",
       "      <td>0.3</td>\n",
       "      <td>19.16</td>\n",
       "      <td>NaN</td>\n",
       "      <td>NaN</td>\n",
       "      <td>NaN</td>\n",
       "    </tr>\n",
       "    <tr>\n",
       "      <th>73703</th>\n",
       "      <td>2</td>\n",
       "      <td>2022-06-30 20:26:00</td>\n",
       "      <td>2022-06-30 20:40:00</td>\n",
       "      <td>None</td>\n",
       "      <td>NaN</td>\n",
       "      <td>41</td>\n",
       "      <td>239</td>\n",
       "      <td>NaN</td>\n",
       "      <td>2.64</td>\n",
       "      <td>13.17</td>\n",
       "      <td>0.0</td>\n",
       "      <td>0.0</td>\n",
       "      <td>0.00</td>\n",
       "      <td>0.0</td>\n",
       "      <td>None</td>\n",
       "      <td>0.3</td>\n",
       "      <td>16.22</td>\n",
       "      <td>NaN</td>\n",
       "      <td>NaN</td>\n",
       "      <td>NaN</td>\n",
       "    </tr>\n",
       "    <tr>\n",
       "      <th>73704</th>\n",
       "      <td>2</td>\n",
       "      <td>2022-06-30 21:05:00</td>\n",
       "      <td>2022-06-30 21:13:00</td>\n",
       "      <td>None</td>\n",
       "      <td>NaN</td>\n",
       "      <td>43</td>\n",
       "      <td>151</td>\n",
       "      <td>NaN</td>\n",
       "      <td>1.82</td>\n",
       "      <td>9.90</td>\n",
       "      <td>0.0</td>\n",
       "      <td>0.0</td>\n",
       "      <td>2.39</td>\n",
       "      <td>0.0</td>\n",
       "      <td>None</td>\n",
       "      <td>0.3</td>\n",
       "      <td>12.59</td>\n",
       "      <td>NaN</td>\n",
       "      <td>NaN</td>\n",
       "      <td>NaN</td>\n",
       "    </tr>\n",
       "    <tr>\n",
       "      <th>73710</th>\n",
       "      <td>2</td>\n",
       "      <td>2022-06-30 21:09:00</td>\n",
       "      <td>2022-06-30 21:26:00</td>\n",
       "      <td>None</td>\n",
       "      <td>NaN</td>\n",
       "      <td>41</td>\n",
       "      <td>224</td>\n",
       "      <td>NaN</td>\n",
       "      <td>6.01</td>\n",
       "      <td>22.87</td>\n",
       "      <td>0.0</td>\n",
       "      <td>0.0</td>\n",
       "      <td>4.37</td>\n",
       "      <td>0.0</td>\n",
       "      <td>None</td>\n",
       "      <td>0.3</td>\n",
       "      <td>30.29</td>\n",
       "      <td>NaN</td>\n",
       "      <td>NaN</td>\n",
       "      <td>NaN</td>\n",
       "    </tr>\n",
       "    <tr>\n",
       "      <th>73715</th>\n",
       "      <td>2</td>\n",
       "      <td>2022-06-30 22:10:00</td>\n",
       "      <td>2022-06-30 22:55:00</td>\n",
       "      <td>None</td>\n",
       "      <td>NaN</td>\n",
       "      <td>106</td>\n",
       "      <td>137</td>\n",
       "      <td>NaN</td>\n",
       "      <td>8.47</td>\n",
       "      <td>32.69</td>\n",
       "      <td>0.0</td>\n",
       "      <td>0.0</td>\n",
       "      <td>4.97</td>\n",
       "      <td>0.0</td>\n",
       "      <td>None</td>\n",
       "      <td>0.3</td>\n",
       "      <td>40.71</td>\n",
       "      <td>NaN</td>\n",
       "      <td>NaN</td>\n",
       "      <td>NaN</td>\n",
       "    </tr>\n",
       "  </tbody>\n",
       "</table>\n",
       "<p>41559 rows × 20 columns</p>\n",
       "</div>"
      ],
      "text/plain": [
       "       VendorID lpep_pickup_datetime lpep_dropoff_datetime store_and_fwd_flag  \\\n",
       "6             2  2022-06-01 00:17:24   2022-06-01 00:24:15                  N   \n",
       "18            2  2022-06-01 00:49:50   2022-06-01 00:55:32                  N   \n",
       "20            2  2022-06-01 00:36:37   2022-06-01 00:42:29                  N   \n",
       "22            2  2022-06-01 00:03:39   2022-06-01 00:14:59                  N   \n",
       "29            2  2022-06-01 01:02:19   2022-06-01 01:14:39                  N   \n",
       "...         ...                  ...                   ...                ...   \n",
       "73702         2  2022-06-30 20:55:00   2022-06-30 21:07:00               None   \n",
       "73703         2  2022-06-30 20:26:00   2022-06-30 20:40:00               None   \n",
       "73704         2  2022-06-30 21:05:00   2022-06-30 21:13:00               None   \n",
       "73710         2  2022-06-30 21:09:00   2022-06-30 21:26:00               None   \n",
       "73715         2  2022-06-30 22:10:00   2022-06-30 22:55:00               None   \n",
       "\n",
       "       RatecodeID  PULocationID  DOLocationID  passenger_count  trip_distance  \\\n",
       "6             1.0            75           236              1.0           1.16   \n",
       "18            1.0           166           166              1.0           0.95   \n",
       "20            1.0            75           238              1.0           1.19   \n",
       "22            1.0            74           166              1.0           1.58   \n",
       "29            1.0            41           140              1.0           3.52   \n",
       "...           ...           ...           ...              ...            ...   \n",
       "73702         NaN            41           142              NaN           2.89   \n",
       "73703         NaN            41           239              NaN           2.64   \n",
       "73704         NaN            43           151              NaN           1.82   \n",
       "73710         NaN            41           224              NaN           6.01   \n",
       "73715         NaN           106           137              NaN           8.47   \n",
       "\n",
       "       fare_amount  extra  mta_tax  tip_amount  tolls_amount ehail_fee  \\\n",
       "6             7.00    0.5      0.5        0.00           0.0      None   \n",
       "18            5.50    0.5      0.5        1.36           0.0      None   \n",
       "20            6.50    0.5      0.5        2.00           0.0      None   \n",
       "22            9.00    0.5      0.5        1.85           0.0      None   \n",
       "29           13.00    0.5      0.5        0.00           0.0      None   \n",
       "...            ...    ...      ...         ...           ...       ...   \n",
       "73702        12.58    0.0      0.0        3.53           0.0      None   \n",
       "73703        13.17    0.0      0.0        0.00           0.0      None   \n",
       "73704         9.90    0.0      0.0        2.39           0.0      None   \n",
       "73710        22.87    0.0      0.0        4.37           0.0      None   \n",
       "73715        32.69    0.0      0.0        4.97           0.0      None   \n",
       "\n",
       "       improvement_surcharge  total_amount  payment_type  trip_type  \\\n",
       "6                        0.3         11.05           2.0        1.0   \n",
       "18                       0.3          8.16           1.0        1.0   \n",
       "20                       0.3         12.55           1.0        1.0   \n",
       "22                       0.3         12.15           1.0        1.0   \n",
       "29                       0.3         17.05           2.0        1.0   \n",
       "...                      ...           ...           ...        ...   \n",
       "73702                    0.3         19.16           NaN        NaN   \n",
       "73703                    0.3         16.22           NaN        NaN   \n",
       "73704                    0.3         12.59           NaN        NaN   \n",
       "73710                    0.3         30.29           NaN        NaN   \n",
       "73715                    0.3         40.71           NaN        NaN   \n",
       "\n",
       "       congestion_surcharge  \n",
       "6                      2.75  \n",
       "18                     0.00  \n",
       "20                     2.75  \n",
       "22                     0.00  \n",
       "29                     2.75  \n",
       "...                     ...  \n",
       "73702                   NaN  \n",
       "73703                   NaN  \n",
       "73704                   NaN  \n",
       "73710                   NaN  \n",
       "73715                   NaN  \n",
       "\n",
       "[41559 rows x 20 columns]"
      ]
     },
     "execution_count": 23,
     "metadata": {},
     "output_type": "execute_result"
    }
   ],
   "source": [
    "manhattan_do = green22.loc[green22.DOLocationID.isin(Manhattan_zones)]\n",
    "manhattan_do"
   ]
  },
  {
   "cell_type": "markdown",
   "metadata": {},
   "source": [
    "In this dataset, around the 55% of the trips have a Manhattan zone in their pick up or drop off location."
   ]
  },
  {
   "cell_type": "code",
   "execution_count": 24,
   "metadata": {},
   "outputs": [
    {
     "data": {
      "text/plain": [
       "count    22.000000\n",
       "mean     26.088182\n",
       "std       4.549634\n",
       "min      14.270000\n",
       "25%      23.890000\n",
       "50%      26.455000\n",
       "75%      27.455000\n",
       "max      35.520000\n",
       "Name: trip_distance, dtype: float64"
      ]
     },
     "execution_count": 24,
     "metadata": {},
     "output_type": "execute_result"
    }
   ],
   "source": [
    "to_newark = green22['trip_distance'].loc[green22.PULocationID.isin(Manhattan_zones) & green22.DOLocationID.isin(Newark_zone)]\n",
    "to_newark.describe()"
   ]
  },
  {
   "cell_type": "code",
   "execution_count": 25,
   "metadata": {},
   "outputs": [
    {
     "data": {
      "text/plain": [
       "count    404.000000\n",
       "mean      18.053267\n",
       "std        2.951431\n",
       "min        0.000000\n",
       "25%       17.607500\n",
       "50%       18.300000\n",
       "75%       19.060000\n",
       "max       23.070000\n",
       "Name: trip_distance, dtype: float64"
      ]
     },
     "execution_count": 25,
     "metadata": {},
     "output_type": "execute_result"
    }
   ],
   "source": [
    "to_jfk = green22['trip_distance'].loc[green22.PULocationID.isin(Manhattan_zones) & green22.DOLocationID.isin(JFK_zone)]\n",
    "to_jfk.describe()"
   ]
  },
  {
   "cell_type": "code",
   "execution_count": 26,
   "metadata": {},
   "outputs": [
    {
     "data": {
      "text/plain": [
       "count       619.000000\n",
       "mean        255.752100\n",
       "std        6164.966567\n",
       "min           0.000000\n",
       "25%           6.835000\n",
       "50%           7.830000\n",
       "75%           8.600000\n",
       "max      153390.540000\n",
       "Name: trip_distance, dtype: float64"
      ]
     },
     "execution_count": 26,
     "metadata": {},
     "output_type": "execute_result"
    }
   ],
   "source": [
    "to_laguardia = green22['trip_distance'].loc[green22.PULocationID.isin(Manhattan_zones) & green22.DOLocationID.isin(LaGuardia_zone)]\n",
    "to_laguardia.describe()"
   ]
  },
  {
   "cell_type": "markdown",
   "metadata": {},
   "source": [
    "### Green_tripdata_2023-06"
   ]
  },
  {
   "cell_type": "markdown",
   "metadata": {},
   "source": [
    "Importing the dataset as a DataFrame"
   ]
  },
  {
   "cell_type": "code",
   "execution_count": 27,
   "metadata": {},
   "outputs": [],
   "source": [
    "green23= pd.read_parquet('Datasets\\\\green_tripdata_2023-06.parquet')"
   ]
  },
  {
   "cell_type": "markdown",
   "metadata": {},
   "source": [
    "### Data Dictionary:\n",
    "- The green_tripdata_2023-06 and green_tripdata_2023-06 share the same and dictionary."
   ]
  },
  {
   "cell_type": "code",
   "execution_count": 28,
   "metadata": {},
   "outputs": [
    {
     "data": {
      "text/html": [
       "<div>\n",
       "<style scoped>\n",
       "    .dataframe tbody tr th:only-of-type {\n",
       "        vertical-align: middle;\n",
       "    }\n",
       "\n",
       "    .dataframe tbody tr th {\n",
       "        vertical-align: top;\n",
       "    }\n",
       "\n",
       "    .dataframe thead th {\n",
       "        text-align: right;\n",
       "    }\n",
       "</style>\n",
       "<table border=\"1\" class=\"dataframe\">\n",
       "  <thead>\n",
       "    <tr style=\"text-align: right;\">\n",
       "      <th></th>\n",
       "      <th>VendorID</th>\n",
       "      <th>lpep_pickup_datetime</th>\n",
       "      <th>lpep_dropoff_datetime</th>\n",
       "      <th>store_and_fwd_flag</th>\n",
       "      <th>RatecodeID</th>\n",
       "      <th>PULocationID</th>\n",
       "      <th>DOLocationID</th>\n",
       "      <th>passenger_count</th>\n",
       "      <th>trip_distance</th>\n",
       "      <th>fare_amount</th>\n",
       "      <th>extra</th>\n",
       "      <th>mta_tax</th>\n",
       "      <th>tip_amount</th>\n",
       "      <th>tolls_amount</th>\n",
       "      <th>ehail_fee</th>\n",
       "      <th>improvement_surcharge</th>\n",
       "      <th>total_amount</th>\n",
       "      <th>payment_type</th>\n",
       "      <th>trip_type</th>\n",
       "      <th>congestion_surcharge</th>\n",
       "    </tr>\n",
       "  </thead>\n",
       "  <tbody>\n",
       "    <tr>\n",
       "      <th>0</th>\n",
       "      <td>2</td>\n",
       "      <td>2023-06-01 00:32:25</td>\n",
       "      <td>2023-06-01 00:39:06</td>\n",
       "      <td>N</td>\n",
       "      <td>1.0</td>\n",
       "      <td>74</td>\n",
       "      <td>42</td>\n",
       "      <td>1.0</td>\n",
       "      <td>0.84</td>\n",
       "      <td>7.9</td>\n",
       "      <td>1.0</td>\n",
       "      <td>0.5</td>\n",
       "      <td>2.08</td>\n",
       "      <td>0.0</td>\n",
       "      <td>NaN</td>\n",
       "      <td>1.0</td>\n",
       "      <td>12.48</td>\n",
       "      <td>1.0</td>\n",
       "      <td>1.0</td>\n",
       "      <td>0.00</td>\n",
       "    </tr>\n",
       "    <tr>\n",
       "      <th>1</th>\n",
       "      <td>2</td>\n",
       "      <td>2023-06-01 00:39:07</td>\n",
       "      <td>2023-06-01 00:51:59</td>\n",
       "      <td>N</td>\n",
       "      <td>1.0</td>\n",
       "      <td>41</td>\n",
       "      <td>229</td>\n",
       "      <td>1.0</td>\n",
       "      <td>4.05</td>\n",
       "      <td>19.1</td>\n",
       "      <td>1.0</td>\n",
       "      <td>0.5</td>\n",
       "      <td>3.65</td>\n",
       "      <td>0.0</td>\n",
       "      <td>NaN</td>\n",
       "      <td>1.0</td>\n",
       "      <td>28.00</td>\n",
       "      <td>1.0</td>\n",
       "      <td>1.0</td>\n",
       "      <td>2.75</td>\n",
       "    </tr>\n",
       "    <tr>\n",
       "      <th>2</th>\n",
       "      <td>2</td>\n",
       "      <td>2023-06-01 00:35:59</td>\n",
       "      <td>2023-06-01 00:57:06</td>\n",
       "      <td>N</td>\n",
       "      <td>1.0</td>\n",
       "      <td>97</td>\n",
       "      <td>89</td>\n",
       "      <td>1.0</td>\n",
       "      <td>4.26</td>\n",
       "      <td>23.3</td>\n",
       "      <td>1.0</td>\n",
       "      <td>0.5</td>\n",
       "      <td>5.16</td>\n",
       "      <td>0.0</td>\n",
       "      <td>NaN</td>\n",
       "      <td>1.0</td>\n",
       "      <td>30.96</td>\n",
       "      <td>1.0</td>\n",
       "      <td>1.0</td>\n",
       "      <td>0.00</td>\n",
       "    </tr>\n",
       "    <tr>\n",
       "      <th>3</th>\n",
       "      <td>2</td>\n",
       "      <td>2023-06-01 00:50:29</td>\n",
       "      <td>2023-06-01 01:00:32</td>\n",
       "      <td>N</td>\n",
       "      <td>1.0</td>\n",
       "      <td>75</td>\n",
       "      <td>263</td>\n",
       "      <td>1.0</td>\n",
       "      <td>1.79</td>\n",
       "      <td>12.1</td>\n",
       "      <td>1.0</td>\n",
       "      <td>0.5</td>\n",
       "      <td>3.47</td>\n",
       "      <td>0.0</td>\n",
       "      <td>NaN</td>\n",
       "      <td>1.0</td>\n",
       "      <td>20.82</td>\n",
       "      <td>1.0</td>\n",
       "      <td>1.0</td>\n",
       "      <td>2.75</td>\n",
       "    </tr>\n",
       "    <tr>\n",
       "      <th>4</th>\n",
       "      <td>2</td>\n",
       "      <td>2023-06-01 00:15:15</td>\n",
       "      <td>2023-06-01 00:52:40</td>\n",
       "      <td>N</td>\n",
       "      <td>1.0</td>\n",
       "      <td>33</td>\n",
       "      <td>48</td>\n",
       "      <td>1.0</td>\n",
       "      <td>6.40</td>\n",
       "      <td>37.3</td>\n",
       "      <td>1.0</td>\n",
       "      <td>0.5</td>\n",
       "      <td>0.00</td>\n",
       "      <td>0.0</td>\n",
       "      <td>NaN</td>\n",
       "      <td>1.0</td>\n",
       "      <td>42.55</td>\n",
       "      <td>1.0</td>\n",
       "      <td>1.0</td>\n",
       "      <td>2.75</td>\n",
       "    </tr>\n",
       "  </tbody>\n",
       "</table>\n",
       "</div>"
      ],
      "text/plain": [
       "   VendorID lpep_pickup_datetime lpep_dropoff_datetime store_and_fwd_flag  \\\n",
       "0         2  2023-06-01 00:32:25   2023-06-01 00:39:06                  N   \n",
       "1         2  2023-06-01 00:39:07   2023-06-01 00:51:59                  N   \n",
       "2         2  2023-06-01 00:35:59   2023-06-01 00:57:06                  N   \n",
       "3         2  2023-06-01 00:50:29   2023-06-01 01:00:32                  N   \n",
       "4         2  2023-06-01 00:15:15   2023-06-01 00:52:40                  N   \n",
       "\n",
       "   RatecodeID  PULocationID  DOLocationID  passenger_count  trip_distance  \\\n",
       "0         1.0            74            42              1.0           0.84   \n",
       "1         1.0            41           229              1.0           4.05   \n",
       "2         1.0            97            89              1.0           4.26   \n",
       "3         1.0            75           263              1.0           1.79   \n",
       "4         1.0            33            48              1.0           6.40   \n",
       "\n",
       "   fare_amount  extra  mta_tax  tip_amount  tolls_amount  ehail_fee  \\\n",
       "0          7.9    1.0      0.5        2.08           0.0        NaN   \n",
       "1         19.1    1.0      0.5        3.65           0.0        NaN   \n",
       "2         23.3    1.0      0.5        5.16           0.0        NaN   \n",
       "3         12.1    1.0      0.5        3.47           0.0        NaN   \n",
       "4         37.3    1.0      0.5        0.00           0.0        NaN   \n",
       "\n",
       "   improvement_surcharge  total_amount  payment_type  trip_type  \\\n",
       "0                    1.0         12.48           1.0        1.0   \n",
       "1                    1.0         28.00           1.0        1.0   \n",
       "2                    1.0         30.96           1.0        1.0   \n",
       "3                    1.0         20.82           1.0        1.0   \n",
       "4                    1.0         42.55           1.0        1.0   \n",
       "\n",
       "   congestion_surcharge  \n",
       "0                  0.00  \n",
       "1                  2.75  \n",
       "2                  0.00  \n",
       "3                  2.75  \n",
       "4                  2.75  "
      ]
     },
     "execution_count": 28,
     "metadata": {},
     "output_type": "execute_result"
    }
   ],
   "source": [
    "green23.head()"
   ]
  },
  {
   "cell_type": "markdown",
   "metadata": {},
   "source": [
    "We see there are the same columns than the 2022 dataset, so the dictionary works for both.\n",
    "\n",
    "Also, the data types are equal."
   ]
  },
  {
   "cell_type": "markdown",
   "metadata": {},
   "source": [
    "### Shape and Dimension"
   ]
  },
  {
   "cell_type": "code",
   "execution_count": 29,
   "metadata": {},
   "outputs": [
    {
     "data": {
      "text/plain": [
       "(65550, 20)"
      ]
     },
     "execution_count": 29,
     "metadata": {},
     "output_type": "execute_result"
    }
   ],
   "source": [
    "green23.shape"
   ]
  },
  {
   "cell_type": "markdown",
   "metadata": {},
   "source": [
    "Column Names and Data Types"
   ]
  },
  {
   "cell_type": "code",
   "execution_count": 30,
   "metadata": {},
   "outputs": [
    {
     "data": {
      "text/plain": [
       "VendorID                          int32\n",
       "lpep_pickup_datetime     datetime64[us]\n",
       "lpep_dropoff_datetime    datetime64[us]\n",
       "store_and_fwd_flag               object\n",
       "RatecodeID                      float64\n",
       "PULocationID                      int32\n",
       "DOLocationID                      int32\n",
       "passenger_count                 float64\n",
       "trip_distance                   float64\n",
       "fare_amount                     float64\n",
       "extra                           float64\n",
       "mta_tax                         float64\n",
       "tip_amount                      float64\n",
       "tolls_amount                    float64\n",
       "ehail_fee                       float64\n",
       "improvement_surcharge           float64\n",
       "total_amount                    float64\n",
       "payment_type                    float64\n",
       "trip_type                       float64\n",
       "congestion_surcharge            float64\n",
       "dtype: object"
      ]
     },
     "execution_count": 30,
     "metadata": {},
     "output_type": "execute_result"
    }
   ],
   "source": [
    "green23.dtypes"
   ]
  },
  {
   "cell_type": "code",
   "execution_count": 31,
   "metadata": {},
   "outputs": [
    {
     "name": "stdout",
     "output_type": "stream",
     "text": [
      "<class 'pandas.core.frame.DataFrame'>\n",
      "RangeIndex: 65550 entries, 0 to 65549\n",
      "Data columns (total 20 columns):\n",
      " #   Column                 Non-Null Count  Dtype         \n",
      "---  ------                 --------------  -----         \n",
      " 0   VendorID               65550 non-null  int32         \n",
      " 1   lpep_pickup_datetime   65550 non-null  datetime64[us]\n",
      " 2   lpep_dropoff_datetime  65550 non-null  datetime64[us]\n",
      " 3   store_and_fwd_flag     60359 non-null  object        \n",
      " 4   RatecodeID             60359 non-null  float64       \n",
      " 5   PULocationID           65550 non-null  int32         \n",
      " 6   DOLocationID           65550 non-null  int32         \n",
      " 7   passenger_count        60359 non-null  float64       \n",
      " 8   trip_distance          65550 non-null  float64       \n",
      " 9   fare_amount            65550 non-null  float64       \n",
      " 10  extra                  65550 non-null  float64       \n",
      " 11  mta_tax                65550 non-null  float64       \n",
      " 12  tip_amount             65550 non-null  float64       \n",
      " 13  tolls_amount           65550 non-null  float64       \n",
      " 14  ehail_fee              0 non-null      float64       \n",
      " 15  improvement_surcharge  65550 non-null  float64       \n",
      " 16  total_amount           65550 non-null  float64       \n",
      " 17  payment_type           60359 non-null  float64       \n",
      " 18  trip_type              60359 non-null  float64       \n",
      " 19  congestion_surcharge   60359 non-null  float64       \n",
      "dtypes: datetime64[us](2), float64(14), int32(3), object(1)\n",
      "memory usage: 9.3+ MB\n"
     ]
    }
   ],
   "source": [
    "green23.info()"
   ]
  },
  {
   "cell_type": "markdown",
   "metadata": {},
   "source": [
    "### Data Information"
   ]
  },
  {
   "cell_type": "markdown",
   "metadata": {},
   "source": [
    "Duplicates"
   ]
  },
  {
   "cell_type": "code",
   "execution_count": 32,
   "metadata": {},
   "outputs": [
    {
     "data": {
      "text/plain": [
       "0"
      ]
     },
     "execution_count": 32,
     "metadata": {},
     "output_type": "execute_result"
    }
   ],
   "source": [
    "green23.duplicated().sum()"
   ]
  },
  {
   "cell_type": "markdown",
   "metadata": {},
   "source": [
    "There are no duplicated rows in this dataset."
   ]
  },
  {
   "cell_type": "markdown",
   "metadata": {},
   "source": [
    "Missing and Null Values"
   ]
  },
  {
   "cell_type": "code",
   "execution_count": 33,
   "metadata": {},
   "outputs": [
    {
     "data": {
      "text/plain": [
       "VendorID                     0\n",
       "lpep_pickup_datetime         0\n",
       "lpep_dropoff_datetime        0\n",
       "store_and_fwd_flag        5191\n",
       "RatecodeID                5191\n",
       "PULocationID                 0\n",
       "DOLocationID                 0\n",
       "passenger_count           5191\n",
       "trip_distance                0\n",
       "fare_amount                  0\n",
       "extra                        0\n",
       "mta_tax                      0\n",
       "tip_amount                   0\n",
       "tolls_amount                 0\n",
       "ehail_fee                65550\n",
       "improvement_surcharge        0\n",
       "total_amount                 0\n",
       "payment_type              5191\n",
       "trip_type                 5191\n",
       "congestion_surcharge      5191\n",
       "dtype: int64"
      ]
     },
     "execution_count": 33,
     "metadata": {},
     "output_type": "execute_result"
    }
   ],
   "source": [
    "green23.isna().sum()"
   ]
  },
  {
   "cell_type": "markdown",
   "metadata": {},
   "source": [
    "In all 65550 rows, the column 'ehail_fee' is completely empty. And that we have some missing values in the columns 'store_and_fwd_flag', 'RatecodeID', 'passenger_count', 'payment_type', 'trip_type' and 'congestion_surcharge'.\n",
    "\n",
    "\n",
    "As the number of missing values is the same in these columns, it could be that they are in the same rows, we could see that in further analysis. For now, we could say that the number of null values is around the 8% of the dataset."
   ]
  },
  {
   "cell_type": "markdown",
   "metadata": {},
   "source": [
    "### Summary Satistics and Data Distribution"
   ]
  },
  {
   "cell_type": "markdown",
   "metadata": {},
   "source": [
    "We'll analyze the distribution of the columns with numeric values. Excluding the ones that are categorical, IDs or dates."
   ]
  },
  {
   "cell_type": "code",
   "execution_count": 34,
   "metadata": {},
   "outputs": [
    {
     "data": {
      "text/html": [
       "<div>\n",
       "<style scoped>\n",
       "    .dataframe tbody tr th:only-of-type {\n",
       "        vertical-align: middle;\n",
       "    }\n",
       "\n",
       "    .dataframe tbody tr th {\n",
       "        vertical-align: top;\n",
       "    }\n",
       "\n",
       "    .dataframe thead th {\n",
       "        text-align: right;\n",
       "    }\n",
       "</style>\n",
       "<table border=\"1\" class=\"dataframe\">\n",
       "  <thead>\n",
       "    <tr style=\"text-align: right;\">\n",
       "      <th></th>\n",
       "      <th>passenger_count</th>\n",
       "      <th>trip_distance</th>\n",
       "      <th>fare_amount</th>\n",
       "      <th>extra</th>\n",
       "      <th>mta_tax</th>\n",
       "      <th>tip_amount</th>\n",
       "      <th>tolls_amount</th>\n",
       "      <th>improvement_surcharge</th>\n",
       "      <th>total_amount</th>\n",
       "      <th>congestion_surcharge</th>\n",
       "    </tr>\n",
       "  </thead>\n",
       "  <tbody>\n",
       "    <tr>\n",
       "      <th>count</th>\n",
       "      <td>60359.000000</td>\n",
       "      <td>65550.000000</td>\n",
       "      <td>65550.000000</td>\n",
       "      <td>65550.000000</td>\n",
       "      <td>65550.000000</td>\n",
       "      <td>65550.000000</td>\n",
       "      <td>65550.000000</td>\n",
       "      <td>65550.000000</td>\n",
       "      <td>65550.000000</td>\n",
       "      <td>60359.000000</td>\n",
       "    </tr>\n",
       "    <tr>\n",
       "      <th>mean</th>\n",
       "      <td>1.283007</td>\n",
       "      <td>22.430450</td>\n",
       "      <td>18.892448</td>\n",
       "      <td>0.882613</td>\n",
       "      <td>0.561037</td>\n",
       "      <td>2.415067</td>\n",
       "      <td>0.253476</td>\n",
       "      <td>0.985623</td>\n",
       "      <td>24.530728</td>\n",
       "      <td>0.746947</td>\n",
       "    </tr>\n",
       "    <tr>\n",
       "      <th>std</th>\n",
       "      <td>0.904936</td>\n",
       "      <td>1114.401748</td>\n",
       "      <td>22.605564</td>\n",
       "      <td>1.327904</td>\n",
       "      <td>0.381443</td>\n",
       "      <td>3.308543</td>\n",
       "      <td>1.355565</td>\n",
       "      <td>0.132579</td>\n",
       "      <td>24.247960</td>\n",
       "      <td>1.223115</td>\n",
       "    </tr>\n",
       "    <tr>\n",
       "      <th>min</th>\n",
       "      <td>0.000000</td>\n",
       "      <td>0.000000</td>\n",
       "      <td>-240.000000</td>\n",
       "      <td>-2.500000</td>\n",
       "      <td>-0.500000</td>\n",
       "      <td>-0.900000</td>\n",
       "      <td>0.000000</td>\n",
       "      <td>-1.000000</td>\n",
       "      <td>-241.000000</td>\n",
       "      <td>-2.750000</td>\n",
       "    </tr>\n",
       "    <tr>\n",
       "      <th>25%</th>\n",
       "      <td>1.000000</td>\n",
       "      <td>1.180000</td>\n",
       "      <td>10.000000</td>\n",
       "      <td>0.000000</td>\n",
       "      <td>0.500000</td>\n",
       "      <td>0.000000</td>\n",
       "      <td>0.000000</td>\n",
       "      <td>1.000000</td>\n",
       "      <td>13.640000</td>\n",
       "      <td>0.000000</td>\n",
       "    </tr>\n",
       "    <tr>\n",
       "      <th>50%</th>\n",
       "      <td>1.000000</td>\n",
       "      <td>1.980000</td>\n",
       "      <td>14.200000</td>\n",
       "      <td>0.000000</td>\n",
       "      <td>0.500000</td>\n",
       "      <td>1.940000</td>\n",
       "      <td>0.000000</td>\n",
       "      <td>1.000000</td>\n",
       "      <td>19.500000</td>\n",
       "      <td>0.000000</td>\n",
       "    </tr>\n",
       "    <tr>\n",
       "      <th>75%</th>\n",
       "      <td>1.000000</td>\n",
       "      <td>3.600000</td>\n",
       "      <td>21.980000</td>\n",
       "      <td>1.000000</td>\n",
       "      <td>0.500000</td>\n",
       "      <td>3.690000</td>\n",
       "      <td>0.000000</td>\n",
       "      <td>1.000000</td>\n",
       "      <td>29.000000</td>\n",
       "      <td>2.750000</td>\n",
       "    </tr>\n",
       "    <tr>\n",
       "      <th>max</th>\n",
       "      <td>9.000000</td>\n",
       "      <td>179375.160000</td>\n",
       "      <td>4003.000000</td>\n",
       "      <td>10.000000</td>\n",
       "      <td>1.500000</td>\n",
       "      <td>96.300000</td>\n",
       "      <td>29.500000</td>\n",
       "      <td>1.000000</td>\n",
       "      <td>4004.500000</td>\n",
       "      <td>2.750000</td>\n",
       "    </tr>\n",
       "  </tbody>\n",
       "</table>\n",
       "</div>"
      ],
      "text/plain": [
       "       passenger_count  trip_distance   fare_amount         extra  \\\n",
       "count     60359.000000   65550.000000  65550.000000  65550.000000   \n",
       "mean          1.283007      22.430450     18.892448      0.882613   \n",
       "std           0.904936    1114.401748     22.605564      1.327904   \n",
       "min           0.000000       0.000000   -240.000000     -2.500000   \n",
       "25%           1.000000       1.180000     10.000000      0.000000   \n",
       "50%           1.000000       1.980000     14.200000      0.000000   \n",
       "75%           1.000000       3.600000     21.980000      1.000000   \n",
       "max           9.000000  179375.160000   4003.000000     10.000000   \n",
       "\n",
       "            mta_tax    tip_amount  tolls_amount  improvement_surcharge  \\\n",
       "count  65550.000000  65550.000000  65550.000000           65550.000000   \n",
       "mean       0.561037      2.415067      0.253476               0.985623   \n",
       "std        0.381443      3.308543      1.355565               0.132579   \n",
       "min       -0.500000     -0.900000      0.000000              -1.000000   \n",
       "25%        0.500000      0.000000      0.000000               1.000000   \n",
       "50%        0.500000      1.940000      0.000000               1.000000   \n",
       "75%        0.500000      3.690000      0.000000               1.000000   \n",
       "max        1.500000     96.300000     29.500000               1.000000   \n",
       "\n",
       "       total_amount  congestion_surcharge  \n",
       "count  65550.000000          60359.000000  \n",
       "mean      24.530728              0.746947  \n",
       "std       24.247960              1.223115  \n",
       "min     -241.000000             -2.750000  \n",
       "25%       13.640000              0.000000  \n",
       "50%       19.500000              0.000000  \n",
       "75%       29.000000              2.750000  \n",
       "max     4004.500000              2.750000  "
      ]
     },
     "execution_count": 34,
     "metadata": {},
     "output_type": "execute_result"
    }
   ],
   "source": [
    "numcolumns = ['passenger_count', 'trip_distance', 'fare_amount', 'extra', 'mta_tax', 'tip_amount', 'tolls_amount', 'improvement_surcharge', 'total_amount', 'congestion_surcharge'] \n",
    "\n",
    "green23[numcolumns].describe()"
   ]
  },
  {
   "cell_type": "markdown",
   "metadata": {},
   "source": [
    "We can see there're some outliers, including negative values for amounts paid, and a maximum distance of 179375 miles. Also, it's noticeable that the standard deviation of the total amount is really big, considering the value of the 75% qt."
   ]
  }
 ],
 "metadata": {
  "kernelspec": {
   "display_name": "Python 3",
   "language": "python",
   "name": "python3"
  },
  "language_info": {
   "codemirror_mode": {
    "name": "ipython",
    "version": 3
   },
   "file_extension": ".py",
   "mimetype": "text/x-python",
   "name": "python",
   "nbconvert_exporter": "python",
   "pygments_lexer": "ipython3",
   "version": "3.10.11"
  }
 },
 "nbformat": 4,
 "nbformat_minor": 2
}
