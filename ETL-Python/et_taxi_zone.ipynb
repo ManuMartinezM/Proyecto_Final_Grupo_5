{
 "cells": [
  {
   "cell_type": "code",
   "execution_count": 2,
   "metadata": {},
   "outputs": [],
   "source": [
    "import pandas as pd \n",
    "from dbfread import DBF\n",
    "import warnings\n",
    "warnings.filterwarnings(\"ignore\")\n",
    "path_file = 'taxi_zones.dbf'\n",
    "\n",
    "registros = []\n",
    "with DBF('taxi_zones.dbf') as dbf:\n",
    "    for registro in dbf:\n",
    "        registros.append(dict(registro))\n",
    "\n",
    "df = pd.DataFrame(registros)\n",
    "\n",
    "df = df[['OBJECTID','zone','borough']]\n",
    "\n",
    "df=df.rename(columns={'OBJECTID':'Location_id','zone':'Location_name','borough':'Borough'})\n",
    "df=df.drop_duplicates(subset=['Location_name','Borough'])\n",
    "df.to_csv('clean_data/clean_taxi_zone.csv',index=False, sep=';')\n"
   ]
  },
  {
   "cell_type": "code",
   "execution_count": 2,
   "metadata": {},
   "outputs": [],
   "source": [
    "import pandas as pd"
   ]
  },
  {
   "cell_type": "code",
   "execution_count": 4,
   "metadata": {},
   "outputs": [],
   "source": [
    "df= pd.read_csv('clean_data\\clean_electric_car_data.csv')"
   ]
  },
  {
   "cell_type": "code",
   "execution_count": 11,
   "metadata": {},
   "outputs": [
    {
     "data": {
      "text/html": [
       "<div>\n",
       "<style scoped>\n",
       "    .dataframe tbody tr th:only-of-type {\n",
       "        vertical-align: middle;\n",
       "    }\n",
       "\n",
       "    .dataframe tbody tr th {\n",
       "        vertical-align: top;\n",
       "    }\n",
       "\n",
       "    .dataframe thead th {\n",
       "        text-align: right;\n",
       "    }\n",
       "</style>\n",
       "<table border=\"1\" class=\"dataframe\">\n",
       "  <thead>\n",
       "    <tr style=\"text-align: right;\">\n",
       "      <th></th>\n",
       "      <th>Brand</th>\n",
       "      <th>Model</th>\n",
       "      <th>PriceUSD</th>\n",
       "    </tr>\n",
       "  </thead>\n",
       "  <tbody>\n",
       "  </tbody>\n",
       "</table>\n",
       "</div>"
      ],
      "text/plain": [
       "Empty DataFrame\n",
       "Columns: [Brand, Model, PriceUSD]\n",
       "Index: []"
      ]
     },
     "execution_count": 11,
     "metadata": {},
     "output_type": "execute_result"
    }
   ],
   "source": [
    "df[df.duplicated()]"
   ]
  },
  {
   "cell_type": "code",
   "execution_count": 10,
   "metadata": {},
   "outputs": [],
   "source": [
    "df.drop_duplicates(inplace=True)"
   ]
  },
  {
   "cell_type": "code",
   "execution_count": 12,
   "metadata": {},
   "outputs": [],
   "source": [
    "df.to_csv('clean_electric_car_data.csv', index=False)"
   ]
  },
  {
   "cell_type": "code",
   "execution_count": 22,
   "metadata": {},
   "outputs": [],
   "source": [
    "df= pd.read_csv('clean_data\\clean_light_duty_vehicles.csv')"
   ]
  },
  {
   "cell_type": "code",
   "execution_count": 23,
   "metadata": {},
   "outputs": [],
   "source": [
    "df.drop_duplicates(inplace=True,ignore_index=True)\n",
    "df.rename(columns={'Model Year':'Year','Manufacturer':'Brand'},inplace=True)\n",
    "\n",
    "df.to_csv('clean_data/clean_light_duty_vehicles.csv', index=False)"
   ]
  },
  {
   "cell_type": "code",
   "execution_count": 15,
   "metadata": {},
   "outputs": [
    {
     "data": {
      "text/html": [
       "<div>\n",
       "<style scoped>\n",
       "    .dataframe tbody tr th:only-of-type {\n",
       "        vertical-align: middle;\n",
       "    }\n",
       "\n",
       "    .dataframe tbody tr th {\n",
       "        vertical-align: top;\n",
       "    }\n",
       "\n",
       "    .dataframe thead th {\n",
       "        text-align: right;\n",
       "    }\n",
       "</style>\n",
       "<table border=\"1\" class=\"dataframe\">\n",
       "  <thead>\n",
       "    <tr style=\"text-align: right;\">\n",
       "      <th></th>\n",
       "      <th>Model</th>\n",
       "      <th>Model Year</th>\n",
       "      <th>Manufacturer</th>\n",
       "      <th>Fuel</th>\n",
       "    </tr>\n",
       "  </thead>\n",
       "  <tbody>\n",
       "    <tr>\n",
       "      <th>12</th>\n",
       "      <td>A6 quattro</td>\n",
       "      <td>2022</td>\n",
       "      <td>Audi</td>\n",
       "      <td>Hybrid Electric</td>\n",
       "    </tr>\n",
       "    <tr>\n",
       "      <th>77</th>\n",
       "      <td>Silverado 4WD</td>\n",
       "      <td>2022</td>\n",
       "      <td>Chevrolet</td>\n",
       "      <td>Biodiesel (B20)</td>\n",
       "    </tr>\n",
       "    <tr>\n",
       "      <th>95</th>\n",
       "      <td>Explorer Platinum HEV</td>\n",
       "      <td>2022</td>\n",
       "      <td>Ford</td>\n",
       "      <td>Hybrid Electric</td>\n",
       "    </tr>\n",
       "    <tr>\n",
       "      <th>231</th>\n",
       "      <td>GLE 450 4MATIC</td>\n",
       "      <td>2022</td>\n",
       "      <td>Mercedes-Benz</td>\n",
       "      <td>Hybrid Electric</td>\n",
       "    </tr>\n",
       "    <tr>\n",
       "      <th>263</th>\n",
       "      <td>1500 4X2</td>\n",
       "      <td>2022</td>\n",
       "      <td>Ram</td>\n",
       "      <td>Hybrid Electric</td>\n",
       "    </tr>\n",
       "    <tr>\n",
       "      <th>...</th>\n",
       "      <td>...</td>\n",
       "      <td>...</td>\n",
       "      <td>...</td>\n",
       "      <td>...</td>\n",
       "    </tr>\n",
       "    <tr>\n",
       "      <th>2906</th>\n",
       "      <td>Super Club Wagon</td>\n",
       "      <td>1999</td>\n",
       "      <td>Ford</td>\n",
       "      <td>CNG - Compressed Natural Gas</td>\n",
       "    </tr>\n",
       "    <tr>\n",
       "      <th>2931</th>\n",
       "      <td>Econoline Clubwagon</td>\n",
       "      <td>1998</td>\n",
       "      <td>Ford</td>\n",
       "      <td>CNG - Compressed Natural Gas</td>\n",
       "    </tr>\n",
       "    <tr>\n",
       "      <th>2934</th>\n",
       "      <td>Econoline E-250</td>\n",
       "      <td>1998</td>\n",
       "      <td>Ford</td>\n",
       "      <td>CNG - Compressed Natural Gas</td>\n",
       "    </tr>\n",
       "    <tr>\n",
       "      <th>2952</th>\n",
       "      <td>Econoline Clubwagon</td>\n",
       "      <td>1997</td>\n",
       "      <td>Ford</td>\n",
       "      <td>CNG - Compressed Natural Gas</td>\n",
       "    </tr>\n",
       "    <tr>\n",
       "      <th>2955</th>\n",
       "      <td>Econoline E-250</td>\n",
       "      <td>1997</td>\n",
       "      <td>Ford</td>\n",
       "      <td>CNG - Compressed Natural Gas</td>\n",
       "    </tr>\n",
       "  </tbody>\n",
       "</table>\n",
       "<p>138 rows × 4 columns</p>\n",
       "</div>"
      ],
      "text/plain": [
       "                       Model  Model Year   Manufacturer  \\\n",
       "12                A6 quattro        2022           Audi   \n",
       "77             Silverado 4WD        2022      Chevrolet   \n",
       "95    Explorer Platinum HEV         2022           Ford   \n",
       "231           GLE 450 4MATIC        2022  Mercedes-Benz   \n",
       "263                 1500 4X2        2022            Ram   \n",
       "...                      ...         ...            ...   \n",
       "2906        Super Club Wagon        1999           Ford   \n",
       "2931     Econoline Clubwagon        1998           Ford   \n",
       "2934         Econoline E-250        1998           Ford   \n",
       "2952     Econoline Clubwagon        1997           Ford   \n",
       "2955         Econoline E-250        1997           Ford   \n",
       "\n",
       "                              Fuel  \n",
       "12                 Hybrid Electric  \n",
       "77                 Biodiesel (B20)  \n",
       "95                 Hybrid Electric  \n",
       "231                Hybrid Electric  \n",
       "263                Hybrid Electric  \n",
       "...                            ...  \n",
       "2906  CNG - Compressed Natural Gas  \n",
       "2931  CNG - Compressed Natural Gas  \n",
       "2934  CNG - Compressed Natural Gas  \n",
       "2952  CNG - Compressed Natural Gas  \n",
       "2955  CNG - Compressed Natural Gas  \n",
       "\n",
       "[138 rows x 4 columns]"
      ]
     },
     "execution_count": 15,
     "metadata": {},
     "output_type": "execute_result"
    }
   ],
   "source": [
    "df[df.duplicated()]"
   ]
  },
  {
   "cell_type": "code",
   "execution_count": 19,
   "metadata": {},
   "outputs": [
    {
     "data": {
      "text/plain": [
       "(2870, 4)"
      ]
     },
     "execution_count": 19,
     "metadata": {},
     "output_type": "execute_result"
    }
   ],
   "source": [
    "df.shape"
   ]
  },
  {
   "cell_type": "code",
   "execution_count": 18,
   "metadata": {},
   "outputs": [],
   "source": [
    "df.drop_duplicates(inplace=True,ignore_index=True)"
   ]
  },
  {
   "cell_type": "code",
   "execution_count": 21,
   "metadata": {},
   "outputs": [
    {
     "data": {
      "text/plain": [
       "Model           0\n",
       "Model Year      0\n",
       "Manufacturer    0\n",
       "Fuel            0\n",
       "dtype: int64"
      ]
     },
     "execution_count": 21,
     "metadata": {},
     "output_type": "execute_result"
    }
   ],
   "source": [
    "df.isnull().sum()"
   ]
  },
  {
   "cell_type": "code",
   "execution_count": null,
   "metadata": {},
   "outputs": [],
   "source": [
    "df.rename(columns={'Model Year':'Year','Manufacturer':'Brand'},inplace=True)"
   ]
  }
 ],
 "metadata": {
  "kernelspec": {
   "display_name": "Python 3",
   "language": "python",
   "name": "python3"
  },
  "language_info": {
   "codemirror_mode": {
    "name": "ipython",
    "version": 3
   },
   "file_extension": ".py",
   "mimetype": "text/x-python",
   "name": "python",
   "nbconvert_exporter": "python",
   "pygments_lexer": "ipython3",
   "version": "3.10.11"
  }
 },
 "nbformat": 4,
 "nbformat_minor": 2
}
