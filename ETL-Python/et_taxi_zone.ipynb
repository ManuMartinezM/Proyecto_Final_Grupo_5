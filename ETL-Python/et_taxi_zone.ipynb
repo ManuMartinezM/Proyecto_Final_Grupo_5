{
 "cells": [
  {
   "cell_type": "code",
   "execution_count": 2,
   "metadata": {},
   "outputs": [],
   "source": [
    "import pandas as pd \n",
    "from dbfread import DBF\n",
    "import warnings\n",
    "warnings.filterwarnings(\"ignore\")\n",
    "path_file = 'taxi_zones.dbf'\n",
    "\n",
    "registros = []\n",
    "with DBF('taxi_zones.dbf') as dbf:\n",
    "    for registro in dbf:\n",
    "        registros.append(dict(registro))\n",
    "\n",
    "df = pd.DataFrame(registros)\n",
    "\n",
    "df = df[['OBJECTID','zone','borough']]\n",
    "\n",
    "df=df.rename(columns={'OBJECTID':'Location_id','zone':'Location_name','borough':'Borough'})\n",
    "df=df.drop_duplicates(subset=['Location_name','Borough'])\n",
    "df.to_csv('clean_data/clean_taxi_zone.csv',index=False, sep=';')\n"
   ]
  },
  {
   "cell_type": "code",
   "execution_count": null,
   "metadata": {},
   "outputs": [],
   "source": []
  }
 ],
 "metadata": {
  "kernelspec": {
   "display_name": "Python 3",
   "language": "python",
   "name": "python3"
  },
  "language_info": {
   "codemirror_mode": {
    "name": "ipython",
    "version": 3
   },
   "file_extension": ".py",
   "mimetype": "text/x-python",
   "name": "python",
   "nbconvert_exporter": "python",
   "pygments_lexer": "ipython3",
   "version": "3.10.11"
  }
 },
 "nbformat": 4,
 "nbformat_minor": 2
}
