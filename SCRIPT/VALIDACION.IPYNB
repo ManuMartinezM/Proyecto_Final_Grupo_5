{
 "cells": [
  {
   "cell_type": "code",
   "execution_count": 10,
   "metadata": {},
   "outputs": [
    {
     "name": "stdout",
     "output_type": "stream",
     "text": [
      "Archivo SCRIPT\\create_list_files.ipynb cargado con éxito en S3 como SCRIPT/create_list_files.ipynb\n",
      "Archivo SCRIPT\\descargar_de_s3.py cargado con éxito en S3 como SCRIPT/descargar_de_s3.py\n",
      "Archivo SCRIPT\\download_taxi_file.ipynb cargado con éxito en S3 como SCRIPT/download_taxi_file.ipynb\n",
      "Archivo SCRIPT\\upload_files.ipynb cargado con éxito en S3 como SCRIPT/upload_files.ipynb\n"
     ]
    }
   ],
   "source": [
    "import boto3\n",
    "import os\n",
    "from config import AWS_ACCESS_KEY_ID, AWS_SECRET_ACCESS_KEY\n",
    "\n",
    "# Configura las credenciales de AWS\n",
    "aws_access_key_id = AWS_ACCESS_KEY_ID\n",
    "aws_secret_access_key = AWS_SECRET_ACCESS_KEY\n",
    "region_name = 'us-east-2'  # Región según tu configuración\n",
    "\n",
    "# Nombre del bucket de S3\n",
    "bucket_name = 'aws-bucket-smart-analytics'\n",
    "# Ruta de la carpeta local que contiene los archivos a cargar\n",
    "local_folder_path = 'SCRIPT'\n",
    "# Agregar / al final\n",
    "remote_folder =  'SCRIPT/'\n",
    "# Inicializa el cliente de S3\n",
    "s3 = boto3.client('s3', aws_access_key_id=aws_access_key_id, aws_secret_access_key=aws_secret_access_key, region_name=region_name)\n",
    "\n",
    "# Lista todos los archivos en la carpeta local\n",
    "for root, dirs, files in os.walk(local_folder_path):\n",
    "    for file in files:\n",
    "        local_file_path = os.path.join(root, file)\n",
    "        s3_file_path = os.path.join(remote_folder, os.path.relpath(local_file_path, local_folder_path))\n",
    "        #s3_file_path = os.path.relpath(local_file_path, local_folder_path)\n",
    "\n",
    "        # Sube cada archivo a S3\n",
    "        s3.upload_file(local_file_path, bucket_name, s3_file_path)\n",
    "        print(f\"Archivo {local_file_path} cargado con éxito en S3 como {s3_file_path}\")\n"
   ]
  },
  {
   "cell_type": "code",
   "execution_count": 30,
   "metadata": {},
   "outputs": [
    {
     "name": "stdout",
     "output_type": "stream",
     "text": [
      "El objeto SCRIPT/create_list_files.ipynb existe en S3.\n",
      "Tamaño del archivo SCRIPT/create_list_files.ipynb en S3 coincide con el tamaño local.\n",
      "El objeto SCRIPT/descargar_de_s3.py existe en S3.\n",
      "Tamaño del archivo SCRIPT/descargar_de_s3.py en S3 coincide con el tamaño local.\n",
      "El objeto SCRIPT/download_taxi_file.ipynb existe en S3.\n",
      "Tamaño del archivo SCRIPT/download_taxi_file.ipynb en S3 coincide con el tamaño local.\n",
      "El objeto SCRIPT/upload_files.ipynb existe en S3.\n",
      "Tamaño del archivo SCRIPT/upload_files.ipynb en S3 coincide con el tamaño local.\n"
     ]
    }
   ],
   "source": [
    "# Inicializa el cliente de S3\n",
    "s3 = boto3.client('s3', aws_access_key_id=aws_access_key_id, aws_secret_access_key=aws_secret_access_key, region_name=region_name)\n",
    "\n",
    "# Inicializa el recurso de S3\n",
    "s3_resource = boto3.resource('s3', aws_access_key_id=aws_access_key_id, aws_secret_access_key=aws_secret_access_key, region_name=region_name)\n",
    "bucket = s3_resource.Bucket(bucket_name)\n",
    "\n",
    "# Lista todos los archivos en la carpeta local\n",
    "for root, dirs, files in os.walk(local_folder_path):\n",
    "    for file in files:\n",
    "        local_file_path = os.path.join(root, file)\n",
    "        s3_file_path = os.path.join(remote_folder, file)\n",
    "       \n",
    "        # Verifica la existencia del objeto en S3\n",
    "        object_exists = any(obj.key == s3_file_path for obj in bucket.objects.filter(Prefix=s3_file_path))\n",
    "\n",
    "        if object_exists:\n",
    "            print(f\"El objeto {s3_file_path} existe en S3.\")\n",
    "\n",
    "            # Obtiene el tamaño del archivo local\n",
    "            file_size_local = os.path.getsize(local_file_path)\n",
    "\n",
    "            # Obtiene el tamaño del archivo en S3\n",
    "            s3_object = s3_resource.Object(bucket_name, s3_file_path)\n",
    "            file_size_s3 = s3_object.content_length\n",
    "\n",
    "            if file_size_local == file_size_s3:\n",
    "                print(f\"Tamaño del archivo {s3_file_path} en S3 coincide con el tamaño local.\")\n",
    "            else:\n",
    "                print(f\"ERROR: Tamaño del archivo {s3_file_path} en S3 no coincide con el tamaño local.\")\n",
    "        else:\n",
    "            print(f\"ERROR: El objeto {s3_file_path} NO SE ENCUENTRA EN S3.\")\n"
   ]
  }
 ],
 "metadata": {
  "kernelspec": {
   "display_name": "Python 3",
   "language": "python",
   "name": "python3"
  },
  "language_info": {
   "codemirror_mode": {
    "name": "ipython",
    "version": 3
   },
   "file_extension": ".py",
   "mimetype": "text/x-python",
   "name": "python",
   "nbconvert_exporter": "python",
   "pygments_lexer": "ipython3",
   "version": "3.8.0"
  }
 },
 "nbformat": 4,
 "nbformat_minor": 2
}
