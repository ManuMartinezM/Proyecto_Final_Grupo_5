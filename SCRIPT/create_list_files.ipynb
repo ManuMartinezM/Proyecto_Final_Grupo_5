{
 "cells": [
  {
   "cell_type": "code",
   "execution_count": 1,
   "metadata": {},
   "outputs": [],
   "source": [
    "'''Para os, no se requiere una instalación adicional ya que es una parte estándar\n",
    "de la biblioteca estándar de Python y está disponible por defecto.'''\n",
    "import os\n",
    "import pandas as pd"
   ]
  },
  {
   "cell_type": "code",
   "execution_count": 2,
   "metadata": {},
   "outputs": [],
   "source": [
    "# Ruta de la carpeta que deseas listar\n",
    "carpeta = 'datasets'"
   ]
  },
  {
   "cell_type": "code",
   "execution_count": 3,
   "metadata": {},
   "outputs": [
    {
     "name": "stdout",
     "output_type": "stream",
     "text": [
      "Alternative Fuel Vehicles US.csv\n",
      "data_reports_monthly.csv\n",
      "Electric and Alternative Fuel Charging Stations.csv\n",
      "ElectricCarData_Clean.csv\n",
      "ElectricCarData_Norm.csv\n",
      "fhvhv_tripdata_2022-06.parquet\n",
      "fhvhv_tripdata_2023-06.parquet\n",
      "fhv_tripdata_2022-06.parquet\n",
      "fhv_tripdata_2023-06.parquet\n",
      "file_list.csv\n",
      "green_tripdata_2022-06.parquet\n",
      "green_tripdata_2023-06.parquet\n",
      "Light Duty Vehicles.csv\n",
      "taxi+_zone_lookup.csv\n",
      "taxi_zones.csv\n",
      "taxi_zones.dbf\n",
      "top_10_Electric_vehicles.csv\n",
      "top_10_Hybrid_Electric_vehicles.csv\n",
      "Vehicle Fuel Economy Data.csv\n",
      "yellow_tripdata_2022-06.parquet\n",
      "yellow_tripdata_2023-06.parquet\n"
     ]
    }
   ],
   "source": [
    "# Obtiene una lista de los nombres de archivos en la carpeta\n",
    "archivos = os.listdir(carpeta)\n",
    "\n",
    "# Itera a través de la lista de archivos y muestra sus nombres\n",
    "for archivo in archivos:\n",
    "    print(archivo)"
   ]
  },
  {
   "cell_type": "code",
   "execution_count": 4,
   "metadata": {},
   "outputs": [],
   "source": [
    "# Convierte la lista en un DataFrame\n",
    "df = pd.DataFrame(archivos)"
   ]
  },
  {
   "cell_type": "code",
   "execution_count": 5,
   "metadata": {},
   "outputs": [],
   "source": [
    "df.to_csv('./datasets/file_list.csv', index=False, header=['File'])\n"
   ]
  },
  {
   "cell_type": "code",
   "execution_count": 6,
   "metadata": {},
   "outputs": [],
   "source": [
    "df = pd.read_csv('./datasets/file_list.csv')"
   ]
  },
  {
   "cell_type": "code",
   "execution_count": 7,
   "metadata": {},
   "outputs": [
    {
     "data": {
      "text/html": [
       "<div>\n",
       "<style scoped>\n",
       "    .dataframe tbody tr th:only-of-type {\n",
       "        vertical-align: middle;\n",
       "    }\n",
       "\n",
       "    .dataframe tbody tr th {\n",
       "        vertical-align: top;\n",
       "    }\n",
       "\n",
       "    .dataframe thead th {\n",
       "        text-align: right;\n",
       "    }\n",
       "</style>\n",
       "<table border=\"1\" class=\"dataframe\">\n",
       "  <thead>\n",
       "    <tr style=\"text-align: right;\">\n",
       "      <th></th>\n",
       "      <th>File</th>\n",
       "    </tr>\n",
       "  </thead>\n",
       "  <tbody>\n",
       "    <tr>\n",
       "      <th>0</th>\n",
       "      <td>Alternative Fuel Vehicles US.csv</td>\n",
       "    </tr>\n",
       "    <tr>\n",
       "      <th>1</th>\n",
       "      <td>data_reports_monthly.csv</td>\n",
       "    </tr>\n",
       "    <tr>\n",
       "      <th>2</th>\n",
       "      <td>Electric and Alternative Fuel Charging Station...</td>\n",
       "    </tr>\n",
       "    <tr>\n",
       "      <th>3</th>\n",
       "      <td>ElectricCarData_Clean.csv</td>\n",
       "    </tr>\n",
       "    <tr>\n",
       "      <th>4</th>\n",
       "      <td>ElectricCarData_Norm.csv</td>\n",
       "    </tr>\n",
       "    <tr>\n",
       "      <th>5</th>\n",
       "      <td>fhvhv_tripdata_2022-06.parquet</td>\n",
       "    </tr>\n",
       "    <tr>\n",
       "      <th>6</th>\n",
       "      <td>fhvhv_tripdata_2023-06.parquet</td>\n",
       "    </tr>\n",
       "    <tr>\n",
       "      <th>7</th>\n",
       "      <td>fhv_tripdata_2022-06.parquet</td>\n",
       "    </tr>\n",
       "    <tr>\n",
       "      <th>8</th>\n",
       "      <td>fhv_tripdata_2023-06.parquet</td>\n",
       "    </tr>\n",
       "    <tr>\n",
       "      <th>9</th>\n",
       "      <td>file_list.csv</td>\n",
       "    </tr>\n",
       "    <tr>\n",
       "      <th>10</th>\n",
       "      <td>green_tripdata_2022-06.parquet</td>\n",
       "    </tr>\n",
       "    <tr>\n",
       "      <th>11</th>\n",
       "      <td>green_tripdata_2023-06.parquet</td>\n",
       "    </tr>\n",
       "    <tr>\n",
       "      <th>12</th>\n",
       "      <td>Light Duty Vehicles.csv</td>\n",
       "    </tr>\n",
       "    <tr>\n",
       "      <th>13</th>\n",
       "      <td>taxi+_zone_lookup.csv</td>\n",
       "    </tr>\n",
       "    <tr>\n",
       "      <th>14</th>\n",
       "      <td>taxi_zones.csv</td>\n",
       "    </tr>\n",
       "    <tr>\n",
       "      <th>15</th>\n",
       "      <td>taxi_zones.dbf</td>\n",
       "    </tr>\n",
       "    <tr>\n",
       "      <th>16</th>\n",
       "      <td>top_10_Electric_vehicles.csv</td>\n",
       "    </tr>\n",
       "    <tr>\n",
       "      <th>17</th>\n",
       "      <td>top_10_Hybrid_Electric_vehicles.csv</td>\n",
       "    </tr>\n",
       "    <tr>\n",
       "      <th>18</th>\n",
       "      <td>Vehicle Fuel Economy Data.csv</td>\n",
       "    </tr>\n",
       "    <tr>\n",
       "      <th>19</th>\n",
       "      <td>yellow_tripdata_2022-06.parquet</td>\n",
       "    </tr>\n",
       "    <tr>\n",
       "      <th>20</th>\n",
       "      <td>yellow_tripdata_2023-06.parquet</td>\n",
       "    </tr>\n",
       "  </tbody>\n",
       "</table>\n",
       "</div>"
      ],
      "text/plain": [
       "                                                 File\n",
       "0                    Alternative Fuel Vehicles US.csv\n",
       "1                            data_reports_monthly.csv\n",
       "2   Electric and Alternative Fuel Charging Station...\n",
       "3                           ElectricCarData_Clean.csv\n",
       "4                            ElectricCarData_Norm.csv\n",
       "5                      fhvhv_tripdata_2022-06.parquet\n",
       "6                      fhvhv_tripdata_2023-06.parquet\n",
       "7                        fhv_tripdata_2022-06.parquet\n",
       "8                        fhv_tripdata_2023-06.parquet\n",
       "9                                       file_list.csv\n",
       "10                     green_tripdata_2022-06.parquet\n",
       "11                     green_tripdata_2023-06.parquet\n",
       "12                            Light Duty Vehicles.csv\n",
       "13                              taxi+_zone_lookup.csv\n",
       "14                                     taxi_zones.csv\n",
       "15                                     taxi_zones.dbf\n",
       "16                       top_10_Electric_vehicles.csv\n",
       "17                top_10_Hybrid_Electric_vehicles.csv\n",
       "18                      Vehicle Fuel Economy Data.csv\n",
       "19                    yellow_tripdata_2022-06.parquet\n",
       "20                    yellow_tripdata_2023-06.parquet"
      ]
     },
     "execution_count": 7,
     "metadata": {},
     "output_type": "execute_result"
    }
   ],
   "source": [
    "df"
   ]
  }
 ],
 "metadata": {
  "kernelspec": {
   "display_name": "Python 3",
   "language": "python",
   "name": "python3"
  },
  "language_info": {
   "codemirror_mode": {
    "name": "ipython",
    "version": 3
   },
   "file_extension": ".py",
   "mimetype": "text/x-python",
   "name": "python",
   "nbconvert_exporter": "python",
   "pygments_lexer": "ipython3",
   "version": "3.8.0"
  }
 },
 "nbformat": 4,
 "nbformat_minor": 2
}
