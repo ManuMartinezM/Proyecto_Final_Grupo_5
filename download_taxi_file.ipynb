{
 "cells": [
  {
   "cell_type": "code",
   "execution_count": 1,
   "metadata": {},
   "outputs": [],
   "source": [
    "'''\n",
    "pip install requests\n",
    "pip install beautifulsoup4\n",
    "pip install lxml\n",
    "pip install tqdm\n",
    "'''\n",
    "import requests\n",
    "from bs4 import BeautifulSoup\n",
    "from lxml import html\n",
    "import os\n",
    "from urllib.parse import urljoin\n",
    "import re\n",
    "from tqdm import tqdm "
   ]
  },
  {
   "cell_type": "code",
   "execution_count": 2,
   "metadata": {},
   "outputs": [],
   "source": [
    "# URL de la página web \n",
    "url = 'https://www.nyc.gov/site/tlc/about/tlc-trip-record-data.page'\n",
    "\n",
    "# Realiza una solicitud GET para obtener el contenido de la página\n",
    "response = requests.get(url)"
   ]
  },
  {
   "cell_type": "code",
   "execution_count": 3,
   "metadata": {},
   "outputs": [],
   "source": [
    " # Directorio donde guardarás los archivos descargados\n",
    "directorio_destino = 'datasets/'\n",
    "# Valores a buscar\n",
    "valores_a_buscar = ['2023-06', '2022-06']"
   ]
  },
  {
   "cell_type": "code",
   "execution_count": 4,
   "metadata": {},
   "outputs": [
    {
     "name": "stderr",
     "output_type": "stream",
     "text": [
      "100%|██████████| 52.5M/52.5M [00:11<00:00, 4.70MB/s]\n"
     ]
    },
    {
     "name": "stdout",
     "output_type": "stream",
     "text": [
      "Archivo descargado: yellow_tripdata_2023-06.parquet\n"
     ]
    },
    {
     "name": "stderr",
     "output_type": "stream",
     "text": [
      "100%|██████████| 1.49M/1.49M [00:01<00:00, 1.53MB/s]\n"
     ]
    },
    {
     "name": "stdout",
     "output_type": "stream",
     "text": [
      "Archivo descargado: green_tripdata_2023-06.parquet\n"
     ]
    },
    {
     "name": "stderr",
     "output_type": "stream",
     "text": [
      "100%|██████████| 13.4M/13.4M [00:03<00:00, 3.79MB/s]\n"
     ]
    },
    {
     "name": "stdout",
     "output_type": "stream",
     "text": [
      "Archivo descargado: fhv_tripdata_2023-06.parquet\n"
     ]
    },
    {
     "name": "stderr",
     "output_type": "stream",
     "text": [
      "100%|██████████| 476M/476M [01:34<00:00, 5.27MB/s] \n"
     ]
    },
    {
     "name": "stdout",
     "output_type": "stream",
     "text": [
      "Archivo descargado: fhvhv_tripdata_2023-06.parquet\n"
     ]
    },
    {
     "name": "stderr",
     "output_type": "stream",
     "text": [
      "100%|██████████| 52.8M/52.8M [00:12<00:00, 4.44MB/s]\n"
     ]
    },
    {
     "name": "stdout",
     "output_type": "stream",
     "text": [
      "Archivo descargado: yellow_tripdata_2022-06.parquet\n"
     ]
    },
    {
     "name": "stderr",
     "output_type": "stream",
     "text": [
      "100%|██████████| 1.46M/1.46M [00:01<00:00, 1.37MB/s]\n"
     ]
    },
    {
     "name": "stdout",
     "output_type": "stream",
     "text": [
      "Archivo descargado: green_tripdata_2022-06.parquet\n"
     ]
    },
    {
     "name": "stderr",
     "output_type": "stream",
     "text": [
      "100%|██████████| 11.7M/11.7M [00:02<00:00, 4.58MB/s]\n"
     ]
    },
    {
     "name": "stdout",
     "output_type": "stream",
     "text": [
      "Archivo descargado: fhv_tripdata_2022-06.parquet\n"
     ]
    },
    {
     "name": "stderr",
     "output_type": "stream",
     "text": [
      "100%|██████████| 437M/437M [01:29<00:00, 5.14MB/s] "
     ]
    },
    {
     "name": "stdout",
     "output_type": "stream",
     "text": [
      "Archivo descargado: fhvhv_tripdata_2022-06.parquet\n"
     ]
    },
    {
     "name": "stderr",
     "output_type": "stream",
     "text": [
      "\n"
     ]
    }
   ],
   "source": [
    "# Verifica si la solicitud se completó exitosamente\n",
    "if response.status_code == 200:\n",
    "    # Analiza el contenido de la página con BeautifulSoup\n",
    "    soup = BeautifulSoup(response.text, 'html.parser')\n",
    "\n",
    "    # Encuentra todos los elementos <a> con el atributo href\n",
    "    enlaces = soup.find_all('a', href=True)\n",
    "  \n",
    "\n",
    "    # Crea el directorio de destino si no existe\n",
    "    os.makedirs(directorio_destino, exist_ok=True)\n",
    "\n",
    "    # Itera a través de los enlaces y descarga los archivos que cumplen con el criterio\n",
    "    for enlace in enlaces:\n",
    "        url_relativa = enlace['href']\n",
    "        if url_relativa.startswith(('http', 'https')):\n",
    "            # URL absoluta, no hacer nada\n",
    "            url_absoluta = url_relativa\n",
    "        else:\n",
    "            # URL relativa, construir URL absoluta\n",
    "            url_absoluta = urljoin(url, url_relativa)\n",
    "        # Construye la expresión regular dinámica\n",
    "        expresion_regular = '|'.join(map(re.escape, valores_a_buscar))\n",
    "        # Verifica si la URL absoluta contiene \"2023-06\" o \"2022-06\"\n",
    "        if re.search(expresion_regular, url_absoluta):\n",
    "            # Extrae el nombre del archivo de la URL\n",
    "            nombre_archivo = url_relativa.split('/')[-1]\n",
    "\n",
    "            # Descarga el archivo con barra de progreso\n",
    "            response = requests.get(url_absoluta, stream=True)\n",
    "\n",
    "            if response.status_code == 200:\n",
    "                ruta_guardado = os.path.join(directorio_destino, nombre_archivo)\n",
    "                total_size = int(response.headers.get('content-length', 0))\n",
    "                with tqdm(total=total_size, unit='B', unit_scale=True, unit_divisor=1024) as pbar:\n",
    "                    with open(ruta_guardado, 'wb') as archivo:\n",
    "                        for data in response.iter_content(chunk_size=1024):\n",
    "                            pbar.update(len(data))\n",
    "                            archivo.write(data)\n",
    "                print(\"Archivo descargado:\", nombre_archivo)\n",
    "            else:\n",
    "                print(\"No se pudo descargar el archivo:\", nombre_archivo)\n",
    "\n",
    "else:\n",
    "    print(\"Error al acceder a la página:\", response.status_code)"
   ]
  }
 ],
 "metadata": {
  "kernelspec": {
   "display_name": "Python 3",
   "language": "python",
   "name": "python3"
  },
  "language_info": {
   "codemirror_mode": {
    "name": "ipython",
    "version": 3
   },
   "file_extension": ".py",
   "mimetype": "text/x-python",
   "name": "python",
   "nbconvert_exporter": "python",
   "pygments_lexer": "ipython3",
   "version": "3.8.0"
  }
 },
 "nbformat": 4,
 "nbformat_minor": 2
}
